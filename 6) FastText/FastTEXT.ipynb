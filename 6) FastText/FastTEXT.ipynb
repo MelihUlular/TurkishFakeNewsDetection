{
  "nbformat": 4,
  "nbformat_minor": 0,
  "metadata": {
    "colab": {
      "provenance": [],
      "gpuType": "T4"
    },
    "kernelspec": {
      "name": "python3",
      "display_name": "Python 3"
    },
    "language_info": {
      "name": "python"
    },
    "accelerator": "GPU",
    "gpuClass": "standard"
  },
  "cells": [
    {
      "cell_type": "code",
      "source": [
        "!pip install fasttext"
      ],
      "metadata": {
        "colab": {
          "base_uri": "https://localhost:8080/"
        },
        "id": "E4OblIe4TiQM",
        "outputId": "d6ffc087-1e84-4dd7-b377-67ca1335dcf9"
      },
      "execution_count": null,
      "outputs": [
        {
          "output_type": "stream",
          "name": "stdout",
          "text": [
            "Looking in indexes: https://pypi.org/simple, https://us-python.pkg.dev/colab-wheels/public/simple/\n",
            "Requirement already satisfied: fasttext in /usr/local/lib/python3.10/dist-packages (0.9.2)\n",
            "Requirement already satisfied: pybind11>=2.2 in /usr/local/lib/python3.10/dist-packages (from fasttext) (2.10.4)\n",
            "Requirement already satisfied: setuptools>=0.7.0 in /usr/local/lib/python3.10/dist-packages (from fasttext) (67.7.2)\n",
            "Requirement already satisfied: numpy in /usr/local/lib/python3.10/dist-packages (from fasttext) (1.22.4)\n"
          ]
        }
      ]
    },
    {
      "cell_type": "code",
      "execution_count": null,
      "metadata": {
        "id": "6k24qJJiTHP-"
      },
      "outputs": [],
      "source": [
        "# Import required libraries\n",
        "import fasttext.util\n",
        "import pandas as pd\n",
        "from sklearn.model_selection import train_test_split\n",
        "from sklearn.metrics import accuracy_score\n",
        "import tensorflow as tf\n",
        "from tensorflow import keras\n",
        "from keras.models import Sequential\n",
        "from keras.layers import Dense, Dropout\n",
        "from sklearn.naive_bayes import MultinomialNB\n",
        "from sklearn.ensemble import RandomForestClassifier\n",
        "from sklearn.neighbors import KNeighborsClassifier\n",
        "from sklearn.svm import SVC\n",
        "from sklearn.ensemble import GradientBoostingClassifier\n",
        "from sklearn.tree import DecisionTreeClassifier"
      ]
    },
    {
      "cell_type": "code",
      "source": [
        "# Load the dataset\n",
        "data_path = 'clean_news.csv'\n",
        "df = pd.read_csv(data_path, error_bad_lines=False)"
      ],
      "metadata": {
        "colab": {
          "base_uri": "https://localhost:8080/"
        },
        "id": "9l-P1q3-TN-3",
        "outputId": "6d9ff6b3-3dd5-4b61-e0fd-aeb53f0cb12b"
      },
      "execution_count": null,
      "outputs": [
        {
          "output_type": "stream",
          "name": "stderr",
          "text": [
            "<ipython-input-40-fad451ee7660>:3: FutureWarning: The error_bad_lines argument has been deprecated and will be removed in a future version. Use on_bad_lines in the future.\n",
            "\n",
            "\n",
            "  df = pd.read_csv(data_path, error_bad_lines=False)\n"
          ]
        }
      ]
    },
    {
      "cell_type": "code",
      "source": [
        "# Display the first 10 rows of the DataFrame\n",
        "df.head(10)"
      ],
      "metadata": {
        "colab": {
          "base_uri": "https://localhost:8080/",
          "height": 363
        },
        "id": "XACLkK8cAnR2",
        "outputId": "84ab3bd4-9bb6-4e42-ab58-4066bd0db2fb"
      },
      "execution_count": null,
      "outputs": [
        {
          "output_type": "execute_result",
          "data": {
            "text/plain": [
              "                                                Body   Label\n",
              "0  karadeniz tiyatro festivali zamanı devlet tiya...  gerçek\n",
              "1  sözde torbacının haklı gururu dün gece suların...   yalan\n",
              "2  buseyi aramak bin liralık cihazını alıp geldi ...  gerçek\n",
              "3  west ham southampton maç özet premier ligin ha...  gerçek\n",
              "4  ak partili yavuz duyurdu yskya ek dilekçe vere...  gerçek\n",
              "5  onlar türkiyenin annesi sinemamızın unutulmaz ...  gerçek\n",
              "6  orucu bozan durumlar neler burun damlası orucu...  gerçek\n",
              "7  ankara emniyeti bayram öncesinde sahte çocuk ç...   yalan\n",
              "8  şeyin i̇yisini hakettiğini düşünen genç kızın ...   yalan\n",
              "9  suriye sınırına komando askeri araç sevkiyatı ...  gerçek"
            ],
            "text/html": [
              "\n",
              "  <div id=\"df-2674b5e4-b28e-4ac1-ad56-b7c1490e14e0\">\n",
              "    <div class=\"colab-df-container\">\n",
              "      <div>\n",
              "<style scoped>\n",
              "    .dataframe tbody tr th:only-of-type {\n",
              "        vertical-align: middle;\n",
              "    }\n",
              "\n",
              "    .dataframe tbody tr th {\n",
              "        vertical-align: top;\n",
              "    }\n",
              "\n",
              "    .dataframe thead th {\n",
              "        text-align: right;\n",
              "    }\n",
              "</style>\n",
              "<table border=\"1\" class=\"dataframe\">\n",
              "  <thead>\n",
              "    <tr style=\"text-align: right;\">\n",
              "      <th></th>\n",
              "      <th>Body</th>\n",
              "      <th>Label</th>\n",
              "    </tr>\n",
              "  </thead>\n",
              "  <tbody>\n",
              "    <tr>\n",
              "      <th>0</th>\n",
              "      <td>karadeniz tiyatro festivali zamanı devlet tiya...</td>\n",
              "      <td>gerçek</td>\n",
              "    </tr>\n",
              "    <tr>\n",
              "      <th>1</th>\n",
              "      <td>sözde torbacının haklı gururu dün gece suların...</td>\n",
              "      <td>yalan</td>\n",
              "    </tr>\n",
              "    <tr>\n",
              "      <th>2</th>\n",
              "      <td>buseyi aramak bin liralık cihazını alıp geldi ...</td>\n",
              "      <td>gerçek</td>\n",
              "    </tr>\n",
              "    <tr>\n",
              "      <th>3</th>\n",
              "      <td>west ham southampton maç özet premier ligin ha...</td>\n",
              "      <td>gerçek</td>\n",
              "    </tr>\n",
              "    <tr>\n",
              "      <th>4</th>\n",
              "      <td>ak partili yavuz duyurdu yskya ek dilekçe vere...</td>\n",
              "      <td>gerçek</td>\n",
              "    </tr>\n",
              "    <tr>\n",
              "      <th>5</th>\n",
              "      <td>onlar türkiyenin annesi sinemamızın unutulmaz ...</td>\n",
              "      <td>gerçek</td>\n",
              "    </tr>\n",
              "    <tr>\n",
              "      <th>6</th>\n",
              "      <td>orucu bozan durumlar neler burun damlası orucu...</td>\n",
              "      <td>gerçek</td>\n",
              "    </tr>\n",
              "    <tr>\n",
              "      <th>7</th>\n",
              "      <td>ankara emniyeti bayram öncesinde sahte çocuk ç...</td>\n",
              "      <td>yalan</td>\n",
              "    </tr>\n",
              "    <tr>\n",
              "      <th>8</th>\n",
              "      <td>şeyin i̇yisini hakettiğini düşünen genç kızın ...</td>\n",
              "      <td>yalan</td>\n",
              "    </tr>\n",
              "    <tr>\n",
              "      <th>9</th>\n",
              "      <td>suriye sınırına komando askeri araç sevkiyatı ...</td>\n",
              "      <td>gerçek</td>\n",
              "    </tr>\n",
              "  </tbody>\n",
              "</table>\n",
              "</div>\n",
              "      <button class=\"colab-df-convert\" onclick=\"convertToInteractive('df-2674b5e4-b28e-4ac1-ad56-b7c1490e14e0')\"\n",
              "              title=\"Convert this dataframe to an interactive table.\"\n",
              "              style=\"display:none;\">\n",
              "        \n",
              "  <svg xmlns=\"http://www.w3.org/2000/svg\" height=\"24px\"viewBox=\"0 0 24 24\"\n",
              "       width=\"24px\">\n",
              "    <path d=\"M0 0h24v24H0V0z\" fill=\"none\"/>\n",
              "    <path d=\"M18.56 5.44l.94 2.06.94-2.06 2.06-.94-2.06-.94-.94-2.06-.94 2.06-2.06.94zm-11 1L8.5 8.5l.94-2.06 2.06-.94-2.06-.94L8.5 2.5l-.94 2.06-2.06.94zm10 10l.94 2.06.94-2.06 2.06-.94-2.06-.94-.94-2.06-.94 2.06-2.06.94z\"/><path d=\"M17.41 7.96l-1.37-1.37c-.4-.4-.92-.59-1.43-.59-.52 0-1.04.2-1.43.59L10.3 9.45l-7.72 7.72c-.78.78-.78 2.05 0 2.83L4 21.41c.39.39.9.59 1.41.59.51 0 1.02-.2 1.41-.59l7.78-7.78 2.81-2.81c.8-.78.8-2.07 0-2.86zM5.41 20L4 18.59l7.72-7.72 1.47 1.35L5.41 20z\"/>\n",
              "  </svg>\n",
              "      </button>\n",
              "      \n",
              "  <style>\n",
              "    .colab-df-container {\n",
              "      display:flex;\n",
              "      flex-wrap:wrap;\n",
              "      gap: 12px;\n",
              "    }\n",
              "\n",
              "    .colab-df-convert {\n",
              "      background-color: #E8F0FE;\n",
              "      border: none;\n",
              "      border-radius: 50%;\n",
              "      cursor: pointer;\n",
              "      display: none;\n",
              "      fill: #1967D2;\n",
              "      height: 32px;\n",
              "      padding: 0 0 0 0;\n",
              "      width: 32px;\n",
              "    }\n",
              "\n",
              "    .colab-df-convert:hover {\n",
              "      background-color: #E2EBFA;\n",
              "      box-shadow: 0px 1px 2px rgba(60, 64, 67, 0.3), 0px 1px 3px 1px rgba(60, 64, 67, 0.15);\n",
              "      fill: #174EA6;\n",
              "    }\n",
              "\n",
              "    [theme=dark] .colab-df-convert {\n",
              "      background-color: #3B4455;\n",
              "      fill: #D2E3FC;\n",
              "    }\n",
              "\n",
              "    [theme=dark] .colab-df-convert:hover {\n",
              "      background-color: #434B5C;\n",
              "      box-shadow: 0px 1px 3px 1px rgba(0, 0, 0, 0.15);\n",
              "      filter: drop-shadow(0px 1px 2px rgba(0, 0, 0, 0.3));\n",
              "      fill: #FFFFFF;\n",
              "    }\n",
              "  </style>\n",
              "\n",
              "      <script>\n",
              "        const buttonEl =\n",
              "          document.querySelector('#df-2674b5e4-b28e-4ac1-ad56-b7c1490e14e0 button.colab-df-convert');\n",
              "        buttonEl.style.display =\n",
              "          google.colab.kernel.accessAllowed ? 'block' : 'none';\n",
              "\n",
              "        async function convertToInteractive(key) {\n",
              "          const element = document.querySelector('#df-2674b5e4-b28e-4ac1-ad56-b7c1490e14e0');\n",
              "          const dataTable =\n",
              "            await google.colab.kernel.invokeFunction('convertToInteractive',\n",
              "                                                     [key], {});\n",
              "          if (!dataTable) return;\n",
              "\n",
              "          const docLinkHtml = 'Like what you see? Visit the ' +\n",
              "            '<a target=\"_blank\" href=https://colab.research.google.com/notebooks/data_table.ipynb>data table notebook</a>'\n",
              "            + ' to learn more about interactive tables.';\n",
              "          element.innerHTML = '';\n",
              "          dataTable['output_type'] = 'display_data';\n",
              "          await google.colab.output.renderOutput(dataTable, element);\n",
              "          const docLink = document.createElement('div');\n",
              "          docLink.innerHTML = docLinkHtml;\n",
              "          element.appendChild(docLink);\n",
              "        }\n",
              "      </script>\n",
              "    </div>\n",
              "  </div>\n",
              "  "
            ]
          },
          "metadata": {},
          "execution_count": 41
        }
      ]
    },
    {
      "cell_type": "code",
      "source": [
        "import resource\n",
        "#Set the maximum size of the data segment that can be allocated by a process to 10 GB\n",
        "resource.setrlimit(resource.RLIMIT_DATA, (10 * 1024**3, -1))"
      ],
      "metadata": {
        "id": "Qm_RAki5V3iB"
      },
      "execution_count": null,
      "outputs": []
    },
    {
      "cell_type": "code",
      "source": [
        "from sklearn.metrics import accuracy_score, precision_score, recall_score, f1_score\n",
        "import fasttext\n",
        "from sklearn.metrics import confusion_matrix\n",
        "#Split the dataset into train and test sets\n",
        "train_df, test_df = train_test_split(df, test_size=0.3, random_state=42)\n",
        "\n",
        "# Save the train and test sets as text files in fastText format\n",
        "train_df['fasttext_data'] = '__label__' + train_df['Label'] + ' ' + train_df['Body']\n",
        "train_df[['fasttext_data']].to_csv('train.txt', index=False, header=False)\n",
        "test_df['fasttext_data'] = '__label__' + test_df['Label'] + ' ' + test_df['Body']\n",
        "test_df[['fasttext_data']].to_csv('test.txt', index=False, header=False)\n",
        "\n",
        "#Train the FastText model\n",
        "model = fasttext.train_supervised('train.txt', epoch=5, lr=0.1, wordNgrams=2, bucket=1000, dim=10, loss='hs')\n",
        "\n",
        "#Test the FastText model\n",
        "y_pred = model.predict([text for text in test_df['Body'].values])\n",
        "y_pred_labels = [label[0].split('__')[-1] for label in y_pred[0]]\n",
        "y_true_labels = test_df['Label'].tolist()\n",
        "accuracy = accuracy_score(y_true_labels, y_pred_labels)\n",
        "\n",
        "#Print the evaluation metrics\n",
        "print(\"Accuracy:\", accuracy_score(y_true_labels, y_pred_labels))\n",
        "print(\"Precision:\", precision_score(y_true_labels, y_pred_labels, average='macro'))\n",
        "print(\"Recall:\", recall_score(y_true_labels, y_pred_labels, average='macro'))\n",
        "print(\"F1 Score:\", f1_score(y_true_labels, y_pred_labels, average='macro')) \n",
        "print(\"Confusion Matrix:\\n\", confusion_matrix(y_true_labels, y_pred_labels))"
      ],
      "metadata": {
        "colab": {
          "base_uri": "https://localhost:8080/"
        },
        "id": "O1QSKylVTTt8",
        "outputId": "dd920385-8999-4c50-ee63-d15066710e81"
      },
      "execution_count": null,
      "outputs": [
        {
          "output_type": "stream",
          "name": "stdout",
          "text": [
            "Accuracy: 0.7382198952879581\n",
            "Precision: 0.8084415584415585\n",
            "Recall: 0.754199177028759\n",
            "F1 Score: 0.72972738824073\n",
            "Confusion Matrix:\n",
            " [[375 340]\n",
            " [ 10 612]]\n"
          ]
        }
      ]
    },
    {
      "cell_type": "code",
      "source": [
        "#Display the contents of the train_df variable\n",
        "print(train_df)"
      ],
      "metadata": {
        "id": "G8H71x9RWzwD",
        "colab": {
          "base_uri": "https://localhost:8080/"
        },
        "outputId": "f9c982b6-479a-4ae4-c861-c33615b247e1"
      },
      "execution_count": null,
      "outputs": [
        {
          "output_type": "stream",
          "name": "stdout",
          "text": [
            "                                                   Body   Label  \\\n",
            "3784  manchester cityyi kaptanı kurtardı şampiyonluk...  gerçek   \n",
            "2910  fatih terim kararını verdi galatasarayın alany...  gerçek   \n",
            "3740  milletvekili olmak i̇çin evden kaçan eg ankara...   yalan   \n",
            "2543  karayolları genel müdürlüğünün yol bakım onarı...   yalan   \n",
            "1278  felaketten sonra kötü olabilir diyen türkiye d...   yalan   \n",
            "...                                                 ...     ...   \n",
            "4426  suriye irak i̇ran i̇sraille diplomatik kriz ya...   yalan   \n",
            "466   ui̇bin nisan ayı ihracatı milyar dolar uludağ ...  gerçek   \n",
            "3092  george michaelın ölüm haberine yayın yasağı ge...   yalan   \n",
            "3772  son saatte oldu i̇şte türkiye dünya gündemine ...  gerçek   \n",
            "860   avustralyada havalimanında bombalı saldırgan p...  gerçek   \n",
            "\n",
            "                                          fasttext_data  \n",
            "3784  __label__gerçek manchester cityyi kaptanı kurt...  \n",
            "2910  __label__gerçek fatih terim kararını verdi gal...  \n",
            "3740  __label__yalan milletvekili olmak i̇çin evden ...  \n",
            "2543  __label__yalan karayolları genel müdürlüğünün ...  \n",
            "1278  __label__yalan felaketten sonra kötü olabilir ...  \n",
            "...                                                 ...  \n",
            "4426  __label__yalan suriye irak i̇ran i̇sraille dip...  \n",
            "466   __label__gerçek ui̇bin nisan ayı ihracatı mily...  \n",
            "3092  __label__yalan george michaelın ölüm haberine ...  \n",
            "3772  __label__gerçek son saatte oldu i̇şte türkiye ...  \n",
            "860   __label__gerçek avustralyada havalimanında bom...  \n",
            "\n",
            "[3118 rows x 3 columns]\n"
          ]
        }
      ]
    },
    {
      "cell_type": "code",
      "source": [
        "#Display the contents of the test_df variable\n",
        "print(test_df)"
      ],
      "metadata": {
        "id": "G1CJ_roRYIcm",
        "colab": {
          "base_uri": "https://localhost:8080/"
        },
        "outputId": "249ae63f-79e4-481a-d89b-5642156d7650"
      },
      "execution_count": null,
      "outputs": [
        {
          "output_type": "stream",
          "name": "stdout",
          "text": [
            "                                                   Body   Label  \\\n",
            "2855  yeni gelinleri türkler tarafından pek beğenilm...   yalan   \n",
            "693   deniz sekinin gördüğü i̇lgi yapımcıları hareke...   yalan   \n",
            "1429  kanser hastasını tedavi ederken öldüren sahte ...  gerçek   \n",
            "1200  son dakika fed faiz kararını açıkladı abd merk...  gerçek   \n",
            "3915  tüi̇k refah mutluluk endeksi raporuna göre hay...   yalan   \n",
            "...                                                 ...     ...   \n",
            "1539  ankara büyükşehir belediyesi bülent arınçın ev...   yalan   \n",
            "2566  korkunç iddia doğru çıktı gençten acı haber ge...  gerçek   \n",
            "3319  yıllardır youtube videosunun altına türkkürt k...   yalan   \n",
            "1815  trabzonsporda sakatlık kabusu kırık tespit edi...  gerçek   \n",
            "1837  kibariyenin köklerinin aslen san franciscoya d...   yalan   \n",
            "\n",
            "                                          fasttext_data  \n",
            "2855  __label__yalan yeni gelinleri türkler tarafınd...  \n",
            "693   __label__yalan deniz sekinin gördüğü i̇lgi yap...  \n",
            "1429  __label__gerçek kanser hastasını tedavi ederke...  \n",
            "1200  __label__gerçek son dakika fed faiz kararını a...  \n",
            "3915  __label__yalan tüi̇k refah mutluluk endeksi ra...  \n",
            "...                                                 ...  \n",
            "1539  __label__yalan ankara büyükşehir belediyesi bü...  \n",
            "2566  __label__gerçek korkunç iddia doğru çıktı genç...  \n",
            "3319  __label__yalan yıllardır youtube videosunun al...  \n",
            "1815  __label__gerçek trabzonsporda sakatlık kabusu ...  \n",
            "1837  __label__yalan kibariyenin köklerinin aslen sa...  \n",
            "\n",
            "[1337 rows x 3 columns]\n"
          ]
        }
      ]
    },
    {
      "cell_type": "code",
      "source": [
        "#Get the number of items in the train_df object\n",
        "len(train_df)"
      ],
      "metadata": {
        "id": "FI5YvvUnYPGl",
        "colab": {
          "base_uri": "https://localhost:8080/"
        },
        "outputId": "924fba56-ce48-49f4-f09a-d4f7941019a8"
      },
      "execution_count": null,
      "outputs": [
        {
          "output_type": "execute_result",
          "data": {
            "text/plain": [
              "3118"
            ]
          },
          "metadata": {},
          "execution_count": 46
        }
      ]
    },
    {
      "cell_type": "code",
      "source": [
        "# Get the number of items in the test_df object\n",
        "len(test_df)"
      ],
      "metadata": {
        "id": "sT-XhvCcYTvQ",
        "colab": {
          "base_uri": "https://localhost:8080/"
        },
        "outputId": "86d3fc0f-6248-40e8-d6d3-dd8364b89860"
      },
      "execution_count": null,
      "outputs": [
        {
          "output_type": "execute_result",
          "data": {
            "text/plain": [
              "1337"
            ]
          },
          "metadata": {},
          "execution_count": 47
        }
      ]
    },
    {
      "cell_type": "markdown",
      "source": [
        "LOGISTIC REGRESSION"
      ],
      "metadata": {
        "id": "3Dln8PZmaBiM"
      }
    },
    {
      "cell_type": "code",
      "source": [
        "from sklearn.feature_extraction.text import CountVectorizer\n",
        "from sklearn.linear_model import LogisticRegression\n",
        "\n",
        "# Split the data into training and testing sets\n",
        "X_train, X_test, y_train, y_test = train_test_split(df['Body'], df['Label'], test_size=0.3, random_state=42)\n",
        "\n",
        "# Vectorize the text data\n",
        "vectorizer = CountVectorizer()\n",
        "X_train_vec = vectorizer.fit_transform(X_train)\n",
        "X_test_vec = vectorizer.transform(X_test)\n",
        "\n",
        "# Train a logistic regression model\n",
        "model = LogisticRegression()\n",
        "model.fit(X_train_vec, y_train)\n",
        "\n",
        "# Make predictions on the test data\n",
        "y_pred = model.predict(X_test_vec)\n",
        "\n",
        "# Print the evaluation metrics\n",
        "print(\"Accuracy:\", accuracy_score(y_true_labels, y_pred_labels))\n",
        "print(\"Precision:\", precision_score(y_true_labels, y_pred_labels, average='macro'))\n",
        "print(\"Recall:\", recall_score(y_true_labels, y_pred_labels, average='macro'))\n",
        "print(\"F1 Score:\", f1_score(y_true_labels, y_pred_labels, average='macro')) \n",
        "print(\"Confusion Matrix:\\n\", confusion_matrix(y_true_labels, y_pred_labels))"
      ],
      "metadata": {
        "id": "FcWgh7hBYZ7p",
        "colab": {
          "base_uri": "https://localhost:8080/"
        },
        "outputId": "3fd578d3-f74a-4fdc-d7d4-68b7e1477cfc"
      },
      "execution_count": null,
      "outputs": [
        {
          "output_type": "stream",
          "name": "stdout",
          "text": [
            "Accuracy: 0.7382198952879581\n",
            "Precision: 0.8084415584415585\n",
            "Recall: 0.754199177028759\n",
            "F1 Score: 0.72972738824073\n",
            "Confusion Matrix:\n",
            " [[375 340]\n",
            " [ 10 612]]\n"
          ]
        }
      ]
    },
    {
      "cell_type": "markdown",
      "source": [
        "DECISION TREE"
      ],
      "metadata": {
        "id": "_TEuW4rBaKPe"
      }
    },
    {
      "cell_type": "code",
      "source": [
        "from sklearn.tree import DecisionTreeClassifier\n",
        "\n",
        "# Split data into train and test sets\n",
        "X_train, X_test, y_train, y_test = train_test_split(df['Body'], df['Label'], test_size=0.3, random_state=42)\n",
        "\n",
        "# Vectorize the text data\n",
        "vectorizer = CountVectorizer()\n",
        "X_train_vec = vectorizer.fit_transform(X_train)\n",
        "X_test_vec = vectorizer.transform(X_test)\n",
        "\n",
        "# Train a decision tree classifier\n",
        "model = DecisionTreeClassifier(random_state=42)\n",
        "model.fit(X_train_vec, y_train)\n",
        "\n",
        "# Make predictions on the test set\n",
        "y_pred = model.predict(X_test_vec)\n",
        "\n",
        "# Print the evaluation metrics\n",
        "print(\"Accuracy:\", accuracy_score(y_test, y_pred))\n",
        "print(\"Precision:\", precision_score(y_test, y_pred, average='macro'))\n",
        "print(\"Recall:\", recall_score(y_test, y_pred, average='macro'))\n",
        "print(\"F1 Score:\", f1_score(y_test, y_pred, average='macro')) \n",
        "print(\"Confusion Matrix:\\n\", confusion_matrix(y_test, y_pred))"
      ],
      "metadata": {
        "id": "mD6zn6t1aRkJ",
        "colab": {
          "base_uri": "https://localhost:8080/"
        },
        "outputId": "f4a6570b-6ec1-4a22-f676-f160813fd10e"
      },
      "execution_count": null,
      "outputs": [
        {
          "output_type": "stream",
          "name": "stdout",
          "text": [
            "Accuracy: 0.9102468212415856\n",
            "Precision: 0.909568857168507\n",
            "Recall: 0.9103332358959368\n",
            "F1 Score: 0.9098995889210864\n",
            "Confusion Matrix:\n",
            " [[650  65]\n",
            " [ 55 567]]\n"
          ]
        }
      ]
    },
    {
      "cell_type": "markdown",
      "source": [
        "RANDOM FOREST"
      ],
      "metadata": {
        "id": "6CQOi--6cmuQ"
      }
    },
    {
      "cell_type": "code",
      "source": [
        "from sklearn.ensemble import RandomForestClassifier\n",
        "\n",
        "# Split data into train and test sets\n",
        "X_train, X_test, y_train, y_test = train_test_split(df['Body'], df['Label'], test_size=0.3, random_state=42)\n",
        "\n",
        "# Vectorize the text data\n",
        "vectorizer = CountVectorizer()\n",
        "X_train_vec = vectorizer.fit_transform(X_train)\n",
        "X_test_vec = vectorizer.transform(X_test)\n",
        "\n",
        "# Train a random forest classifier\n",
        "model = RandomForestClassifier(random_state=42)\n",
        "model.fit(X_train_vec, y_train)\n",
        "\n",
        "# Make predictions on the test set\n",
        "y_pred = model.predict(X_test_vec)\n",
        "\n",
        "# Print the evaluation metrics\n",
        "print(\"Accuracy:\", accuracy_score(y_test, y_pred))\n",
        "print(\"Precision:\", precision_score(y_test, y_pred, average='macro'))\n",
        "print(\"Recall:\", recall_score(y_test, y_pred, average='macro'))\n",
        "print(\"F1 Score:\", f1_score(y_test, y_pred, average='macro')) \n",
        "print(\"Confusion Matrix:\\n\", confusion_matrix(y_test, y_pred))"
      ],
      "metadata": {
        "id": "bG1fgB3icn4a",
        "colab": {
          "base_uri": "https://localhost:8080/"
        },
        "outputId": "386d9347-b7b3-433f-a6b0-b737924a84e2"
      },
      "execution_count": null,
      "outputs": [
        {
          "output_type": "stream",
          "name": "stdout",
          "text": [
            "Accuracy: 0.9259536275243081\n",
            "Precision: 0.925278731184243\n",
            "Recall: 0.926273244440447\n",
            "F1 Score: 0.9256875681083603\n",
            "Confusion Matrix:\n",
            " [[659  56]\n",
            " [ 43 579]]\n"
          ]
        }
      ]
    },
    {
      "cell_type": "markdown",
      "source": [
        "GRADIENT BOOSTING"
      ],
      "metadata": {
        "id": "LPzkeOOuaobU"
      }
    },
    {
      "cell_type": "code",
      "source": [
        "from sklearn.ensemble import GradientBoostingClassifier\n",
        "\n",
        "# Split data into train and test sets\n",
        "X_train, X_test, y_train, y_test = train_test_split(df['Body'], df['Label'], test_size=0.3, random_state=42)\n",
        "\n",
        "# Vectorize the text data\n",
        "vectorizer = CountVectorizer()\n",
        "X_train_vec = vectorizer.fit_transform(X_train)\n",
        "X_test_vec = vectorizer.transform(X_test)\n",
        "\n",
        "# Train a gradient boosting classifier\n",
        "model = GradientBoostingClassifier(random_state=42)\n",
        "model.fit(X_train_vec, y_train)\n",
        "\n",
        "# Make predictions on the test set\n",
        "y_pred = model.predict(X_test_vec)\n",
        "\n",
        "# Print the evaluation metrics\n",
        "print(\"Accuracy:\", accuracy_score(y_test, y_pred))\n",
        "print(\"Precision:\", precision_score(y_test, y_pred, average='macro'))\n",
        "print(\"Recall:\", recall_score(y_test, y_pred, average='macro'))\n",
        "print(\"F1 Score:\", f1_score(y_test, y_pred, average='macro')) \n",
        "print(\"Confusion Matrix:\\n\", confusion_matrix(y_test, y_pred))"
      ],
      "metadata": {
        "id": "NRdBoWlpaqYS",
        "colab": {
          "base_uri": "https://localhost:8080/"
        },
        "outputId": "4749dde6-5234-4edc-9eda-b3e05929fff2"
      },
      "execution_count": null,
      "outputs": [
        {
          "output_type": "stream",
          "name": "stdout",
          "text": [
            "Accuracy: 0.9483919222139118\n",
            "Precision: 0.9492975630476139\n",
            "Recall: 0.9471477075978684\n",
            "F1 Score: 0.9480272108843537\n",
            "Confusion Matrix:\n",
            " [[690  25]\n",
            " [ 44 578]]\n"
          ]
        }
      ]
    },
    {
      "cell_type": "markdown",
      "source": [
        "SUPPORT VECTOR MACHINE"
      ],
      "metadata": {
        "id": "MSDsl6Hda_2i"
      }
    },
    {
      "cell_type": "code",
      "source": [
        "from sklearn.svm import SVC\n",
        "\n",
        "# Split data into train and test sets\n",
        "X_train, X_test, y_train, y_test = train_test_split(df['Body'], df['Label'], test_size=0.3, random_state=42)\n",
        "\n",
        "# Vectorize the text data\n",
        "vectorizer = CountVectorizer()\n",
        "X_train_vec = vectorizer.fit_transform(X_train)\n",
        "X_test_vec = vectorizer.transform(X_test)\n",
        "\n",
        "# Train a support vector machine classifier\n",
        "model = SVC(kernel='linear', random_state=42)\n",
        "model.fit(X_train_vec, y_train)\n",
        "\n",
        "# Make predictions on the test set\n",
        "y_pred = model.predict(X_test_vec)\n",
        "\n",
        "# Print the evaluation metrics\n",
        "print(\"Accuracy:\", accuracy_score(y_test, y_pred))\n",
        "print(\"Precision:\", precision_score(y_test, y_pred, average='macro'))\n",
        "print(\"Recall:\", recall_score(y_test, y_pred, average='macro'))\n",
        "print(\"F1 Score:\", f1_score(y_test, y_pred, average='macro')) \n",
        "print(\"Confusion Matrix:\\n\", confusion_matrix(y_test, y_pred))"
      ],
      "metadata": {
        "id": "ENgdNzxMbC6o",
        "colab": {
          "base_uri": "https://localhost:8080/"
        },
        "outputId": "48b4fd25-c2d2-44ec-e327-d06099757847"
      },
      "execution_count": null,
      "outputs": [
        {
          "output_type": "stream",
          "name": "stdout",
          "text": [
            "Accuracy: 0.9543754674644727\n",
            "Precision: 0.9539051763628035\n",
            "Recall: 0.9545195961594675\n",
            "F1 Score: 0.9541859133915636\n",
            "Confusion Matrix:\n",
            " [[681  34]\n",
            " [ 27 595]]\n"
          ]
        }
      ]
    },
    {
      "cell_type": "markdown",
      "source": [
        "KNN"
      ],
      "metadata": {
        "id": "-04XLzjQbU30"
      }
    },
    {
      "cell_type": "code",
      "source": [
        "from sklearn.neighbors import KNeighborsClassifier\n",
        "\n",
        "#Split data into train and test sets\n",
        "X_train, X_test, y_train, y_test = train_test_split(df['Body'], df['Label'], test_size=0.3, random_state=42)\n",
        "\n",
        "#Vectorize the text data\n",
        "vectorizer = CountVectorizer()\n",
        "X_train_vec = vectorizer.fit_transform(X_train)\n",
        "X_test_vec = vectorizer.transform(X_test)\n",
        "\n",
        "#Train a KNN classifier\n",
        "model = KNeighborsClassifier()\n",
        "model.fit(X_train_vec, y_train)\n",
        "\n",
        "#Make predictions on the test set\n",
        "y_pred = model.predict(X_test_vec)\n",
        "\n",
        "# Print the evaluation metrics\n",
        "print(\"Accuracy:\", accuracy_score(y_test, y_pred))\n",
        "print(\"Precision:\", precision_score(y_test, y_pred, average='macro'))\n",
        "print(\"Recall:\", recall_score(y_test, y_pred, average='macro'))\n",
        "print(\"F1 Score:\", f1_score(y_test, y_pred, average='macro')) \n",
        "print(\"Confusion Matrix:\\n\", confusion_matrix(y_test, y_pred))"
      ],
      "metadata": {
        "id": "W_CWjDVdbURi",
        "colab": {
          "base_uri": "https://localhost:8080/"
        },
        "outputId": "70ea19f0-960d-46f8-e6ca-27572744bf07"
      },
      "execution_count": null,
      "outputs": [
        {
          "output_type": "stream",
          "name": "stdout",
          "text": [
            "Accuracy: 0.6178010471204188\n",
            "Precision: 0.7450547445255474\n",
            "Recall: 0.5905875475007307\n",
            "F1 Score: 0.5299524934897848\n",
            "Confusion Matrix:\n",
            " [[702  13]\n",
            " [498 124]]\n"
          ]
        }
      ]
    },
    {
      "cell_type": "markdown",
      "source": [
        "NAIVE BAYES"
      ],
      "metadata": {
        "id": "yZsZZqzKbqaJ"
      }
    },
    {
      "cell_type": "code",
      "source": [
        "from sklearn.naive_bayes import MultinomialNB\n",
        "\n",
        "#Split data into train and test sets\n",
        "X_train, X_test, y_train, y_test = train_test_split(df['Body'], df['Label'], test_size=0.3, random_state=42)\n",
        "\n",
        "#Vectorize the text data\n",
        "vectorizer = CountVectorizer()\n",
        "X_train_vec = vectorizer.fit_transform(X_train)\n",
        "X_test_vec = vectorizer.transform(X_test)\n",
        "\n",
        "#Train a naive bayes classifier\n",
        "model = MultinomialNB()\n",
        "model.fit(X_train_vec, y_train)\n",
        "\n",
        "#Make predictions on the test set.\n",
        "y_pred = model.predict(X_test_vec)\n",
        "\n",
        "# Print the evaluation metrics\n",
        "print(\"Accuracy:\", accuracy_score(y_test, y_pred))\n",
        "print(\"Precision:\", precision_score(y_test, y_pred, average='macro'))\n",
        "print(\"Recall:\", recall_score(y_test, y_pred, average='macro'))\n",
        "print(\"F1 Score:\", f1_score(y_test, y_pred, average='macro')) \n",
        "print(\"Confusion Matrix:\\n\", confusion_matrix(y_test, y_pred))"
      ],
      "metadata": {
        "id": "5Ff86J7-b5fL",
        "colab": {
          "base_uri": "https://localhost:8080/"
        },
        "outputId": "958098d6-9d92-4c0c-b3cc-e7405c81a104"
      },
      "execution_count": null,
      "outputs": [
        {
          "output_type": "stream",
          "name": "stdout",
          "text": [
            "Accuracy: 0.9551234106207929\n",
            "Precision: 0.955709687960215\n",
            "Recall: 0.9578328423987588\n",
            "F1 Score: 0.9550890157877057\n",
            "Confusion Matrix:\n",
            " [[657  58]\n",
            " [  2 620]]\n"
          ]
        }
      ]
    }
  ]
}