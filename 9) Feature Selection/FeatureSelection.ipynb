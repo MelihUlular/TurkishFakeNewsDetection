{
  "nbformat": 4,
  "nbformat_minor": 0,
  "metadata": {
    "colab": {
      "provenance": []
    },
    "kernelspec": {
      "name": "python3",
      "display_name": "Python 3"
    },
    "language_info": {
      "name": "python"
    }
  },
  "cells": [
    {
      "cell_type": "code",
      "execution_count": 2,
      "metadata": {
        "id": "HDSxM7g5XZJY",
        "colab": {
          "base_uri": "https://localhost:8080/"
        },
        "outputId": "36a6d891-8cf5-40d8-dfa5-f5d48202959b"
      },
      "outputs": [
        {
          "output_type": "stream",
          "name": "stderr",
          "text": [
            "<ipython-input-2-d124644aaf23>:4: FutureWarning: The error_bad_lines argument has been deprecated and will be removed in a future version. Use on_bad_lines in the future.\n",
            "\n",
            "\n",
            "  df = pd.read_csv(data_path, error_bad_lines=False)\n"
          ]
        }
      ],
      "source": [
        "import pandas as pd\n",
        "# Reading dataset\n",
        "data_path = 'new_linguistic_data.csv'\n",
        "df = pd.read_csv(data_path, error_bad_lines=False)"
      ]
    },
    {
      "cell_type": "code",
      "source": [
        "df.head()"
      ],
      "metadata": {
        "colab": {
          "base_uri": "https://localhost:8080/",
          "height": 647
        },
        "id": "8LUuC8csY33w",
        "outputId": "164be85d-138f-4132-94e7-b5f1846adfb8"
      },
      "execution_count": 3,
      "outputs": [
        {
          "output_type": "execute_result",
          "data": {
            "text/plain": [
              "   Unnamed: 0                                               Body   Label  \\\n",
              "0           0  Karadeniz için tiyatro festivali zamanı!  Devl...  gerçek   \n",
              "1           1  Sözde Torbacının Haklı Gururu Dün gece 02 sula...   yalan   \n",
              "2           2  Buse'yi aramak için 400 bin liralık cihazını a...  gerçek   \n",
              "3           3  West Ham 3-0 Southampton (MAÇ ÖZET)  Premier L...  gerçek   \n",
              "4           4  AK Partili Yavuz duyurdu: YSK'ya ek dilekçe ve...  gerçek   \n",
              "\n",
              "   character_count  word_count  letter_count  \\\n",
              "0             3691         476          2948   \n",
              "1              875         115           726   \n",
              "2              360          47           301   \n",
              "3              214          34           163   \n",
              "4             1105         143           925   \n",
              "\n",
              "   total_number_of_upper_characters  total_number_of_lower_characters  \\\n",
              "0                               245                              2703   \n",
              "1                                37                               689   \n",
              "2                                12                               289   \n",
              "3                                15                               148   \n",
              "4                                53                               872   \n",
              "\n",
              "   number_of_special_character  short_words  ...  MONEY  NORP  ORDINAL  ORG  \\\n",
              "0                           71          125  ...      0     2        0   16   \n",
              "1                           27           28  ...      0     1        0    6   \n",
              "2                            5           10  ...      0     0        0    2   \n",
              "3                            9           14  ...      0     0        0    2   \n",
              "4                           33           40  ...      0     1        0    6   \n",
              "\n",
              "   PERCENT  PERSON  PRODUCT  QUANTITY  TIME  WORK_OF_ART  \n",
              "0        0      61       11         0     0            0  \n",
              "1        0      14        0         2     0            0  \n",
              "2        0       6        0         0     0            0  \n",
              "3        0       2        0         0     0            0  \n",
              "4        0      15        0         0     0            1  \n",
              "\n",
              "[5 rows x 41 columns]"
            ],
            "text/html": [
              "\n",
              "  <div id=\"df-319466a0-44a2-4c81-aad5-7af745647b9b\">\n",
              "    <div class=\"colab-df-container\">\n",
              "      <div>\n",
              "<style scoped>\n",
              "    .dataframe tbody tr th:only-of-type {\n",
              "        vertical-align: middle;\n",
              "    }\n",
              "\n",
              "    .dataframe tbody tr th {\n",
              "        vertical-align: top;\n",
              "    }\n",
              "\n",
              "    .dataframe thead th {\n",
              "        text-align: right;\n",
              "    }\n",
              "</style>\n",
              "<table border=\"1\" class=\"dataframe\">\n",
              "  <thead>\n",
              "    <tr style=\"text-align: right;\">\n",
              "      <th></th>\n",
              "      <th>Unnamed: 0</th>\n",
              "      <th>Body</th>\n",
              "      <th>Label</th>\n",
              "      <th>character_count</th>\n",
              "      <th>word_count</th>\n",
              "      <th>letter_count</th>\n",
              "      <th>total_number_of_upper_characters</th>\n",
              "      <th>total_number_of_lower_characters</th>\n",
              "      <th>number_of_special_character</th>\n",
              "      <th>short_words</th>\n",
              "      <th>...</th>\n",
              "      <th>MONEY</th>\n",
              "      <th>NORP</th>\n",
              "      <th>ORDINAL</th>\n",
              "      <th>ORG</th>\n",
              "      <th>PERCENT</th>\n",
              "      <th>PERSON</th>\n",
              "      <th>PRODUCT</th>\n",
              "      <th>QUANTITY</th>\n",
              "      <th>TIME</th>\n",
              "      <th>WORK_OF_ART</th>\n",
              "    </tr>\n",
              "  </thead>\n",
              "  <tbody>\n",
              "    <tr>\n",
              "      <th>0</th>\n",
              "      <td>0</td>\n",
              "      <td>Karadeniz için tiyatro festivali zamanı!  Devl...</td>\n",
              "      <td>gerçek</td>\n",
              "      <td>3691</td>\n",
              "      <td>476</td>\n",
              "      <td>2948</td>\n",
              "      <td>245</td>\n",
              "      <td>2703</td>\n",
              "      <td>71</td>\n",
              "      <td>125</td>\n",
              "      <td>...</td>\n",
              "      <td>0</td>\n",
              "      <td>2</td>\n",
              "      <td>0</td>\n",
              "      <td>16</td>\n",
              "      <td>0</td>\n",
              "      <td>61</td>\n",
              "      <td>11</td>\n",
              "      <td>0</td>\n",
              "      <td>0</td>\n",
              "      <td>0</td>\n",
              "    </tr>\n",
              "    <tr>\n",
              "      <th>1</th>\n",
              "      <td>1</td>\n",
              "      <td>Sözde Torbacının Haklı Gururu Dün gece 02 sula...</td>\n",
              "      <td>yalan</td>\n",
              "      <td>875</td>\n",
              "      <td>115</td>\n",
              "      <td>726</td>\n",
              "      <td>37</td>\n",
              "      <td>689</td>\n",
              "      <td>27</td>\n",
              "      <td>28</td>\n",
              "      <td>...</td>\n",
              "      <td>0</td>\n",
              "      <td>1</td>\n",
              "      <td>0</td>\n",
              "      <td>6</td>\n",
              "      <td>0</td>\n",
              "      <td>14</td>\n",
              "      <td>0</td>\n",
              "      <td>2</td>\n",
              "      <td>0</td>\n",
              "      <td>0</td>\n",
              "    </tr>\n",
              "    <tr>\n",
              "      <th>2</th>\n",
              "      <td>2</td>\n",
              "      <td>Buse'yi aramak için 400 bin liralık cihazını a...</td>\n",
              "      <td>gerçek</td>\n",
              "      <td>360</td>\n",
              "      <td>47</td>\n",
              "      <td>301</td>\n",
              "      <td>12</td>\n",
              "      <td>289</td>\n",
              "      <td>5</td>\n",
              "      <td>10</td>\n",
              "      <td>...</td>\n",
              "      <td>0</td>\n",
              "      <td>0</td>\n",
              "      <td>0</td>\n",
              "      <td>2</td>\n",
              "      <td>0</td>\n",
              "      <td>6</td>\n",
              "      <td>0</td>\n",
              "      <td>0</td>\n",
              "      <td>0</td>\n",
              "      <td>0</td>\n",
              "    </tr>\n",
              "    <tr>\n",
              "      <th>3</th>\n",
              "      <td>3</td>\n",
              "      <td>West Ham 3-0 Southampton (MAÇ ÖZET)  Premier L...</td>\n",
              "      <td>gerçek</td>\n",
              "      <td>214</td>\n",
              "      <td>34</td>\n",
              "      <td>163</td>\n",
              "      <td>15</td>\n",
              "      <td>148</td>\n",
              "      <td>9</td>\n",
              "      <td>14</td>\n",
              "      <td>...</td>\n",
              "      <td>0</td>\n",
              "      <td>0</td>\n",
              "      <td>0</td>\n",
              "      <td>2</td>\n",
              "      <td>0</td>\n",
              "      <td>2</td>\n",
              "      <td>0</td>\n",
              "      <td>0</td>\n",
              "      <td>0</td>\n",
              "      <td>0</td>\n",
              "    </tr>\n",
              "    <tr>\n",
              "      <th>4</th>\n",
              "      <td>4</td>\n",
              "      <td>AK Partili Yavuz duyurdu: YSK'ya ek dilekçe ve...</td>\n",
              "      <td>gerçek</td>\n",
              "      <td>1105</td>\n",
              "      <td>143</td>\n",
              "      <td>925</td>\n",
              "      <td>53</td>\n",
              "      <td>872</td>\n",
              "      <td>33</td>\n",
              "      <td>40</td>\n",
              "      <td>...</td>\n",
              "      <td>0</td>\n",
              "      <td>1</td>\n",
              "      <td>0</td>\n",
              "      <td>6</td>\n",
              "      <td>0</td>\n",
              "      <td>15</td>\n",
              "      <td>0</td>\n",
              "      <td>0</td>\n",
              "      <td>0</td>\n",
              "      <td>1</td>\n",
              "    </tr>\n",
              "  </tbody>\n",
              "</table>\n",
              "<p>5 rows × 41 columns</p>\n",
              "</div>\n",
              "      <button class=\"colab-df-convert\" onclick=\"convertToInteractive('df-319466a0-44a2-4c81-aad5-7af745647b9b')\"\n",
              "              title=\"Convert this dataframe to an interactive table.\"\n",
              "              style=\"display:none;\">\n",
              "        \n",
              "  <svg xmlns=\"http://www.w3.org/2000/svg\" height=\"24px\"viewBox=\"0 0 24 24\"\n",
              "       width=\"24px\">\n",
              "    <path d=\"M0 0h24v24H0V0z\" fill=\"none\"/>\n",
              "    <path d=\"M18.56 5.44l.94 2.06.94-2.06 2.06-.94-2.06-.94-.94-2.06-.94 2.06-2.06.94zm-11 1L8.5 8.5l.94-2.06 2.06-.94-2.06-.94L8.5 2.5l-.94 2.06-2.06.94zm10 10l.94 2.06.94-2.06 2.06-.94-2.06-.94-.94-2.06-.94 2.06-2.06.94z\"/><path d=\"M17.41 7.96l-1.37-1.37c-.4-.4-.92-.59-1.43-.59-.52 0-1.04.2-1.43.59L10.3 9.45l-7.72 7.72c-.78.78-.78 2.05 0 2.83L4 21.41c.39.39.9.59 1.41.59.51 0 1.02-.2 1.41-.59l7.78-7.78 2.81-2.81c.8-.78.8-2.07 0-2.86zM5.41 20L4 18.59l7.72-7.72 1.47 1.35L5.41 20z\"/>\n",
              "  </svg>\n",
              "      </button>\n",
              "      \n",
              "  <style>\n",
              "    .colab-df-container {\n",
              "      display:flex;\n",
              "      flex-wrap:wrap;\n",
              "      gap: 12px;\n",
              "    }\n",
              "\n",
              "    .colab-df-convert {\n",
              "      background-color: #E8F0FE;\n",
              "      border: none;\n",
              "      border-radius: 50%;\n",
              "      cursor: pointer;\n",
              "      display: none;\n",
              "      fill: #1967D2;\n",
              "      height: 32px;\n",
              "      padding: 0 0 0 0;\n",
              "      width: 32px;\n",
              "    }\n",
              "\n",
              "    .colab-df-convert:hover {\n",
              "      background-color: #E2EBFA;\n",
              "      box-shadow: 0px 1px 2px rgba(60, 64, 67, 0.3), 0px 1px 3px 1px rgba(60, 64, 67, 0.15);\n",
              "      fill: #174EA6;\n",
              "    }\n",
              "\n",
              "    [theme=dark] .colab-df-convert {\n",
              "      background-color: #3B4455;\n",
              "      fill: #D2E3FC;\n",
              "    }\n",
              "\n",
              "    [theme=dark] .colab-df-convert:hover {\n",
              "      background-color: #434B5C;\n",
              "      box-shadow: 0px 1px 3px 1px rgba(0, 0, 0, 0.15);\n",
              "      filter: drop-shadow(0px 1px 2px rgba(0, 0, 0, 0.3));\n",
              "      fill: #FFFFFF;\n",
              "    }\n",
              "  </style>\n",
              "\n",
              "      <script>\n",
              "        const buttonEl =\n",
              "          document.querySelector('#df-319466a0-44a2-4c81-aad5-7af745647b9b button.colab-df-convert');\n",
              "        buttonEl.style.display =\n",
              "          google.colab.kernel.accessAllowed ? 'block' : 'none';\n",
              "\n",
              "        async function convertToInteractive(key) {\n",
              "          const element = document.querySelector('#df-319466a0-44a2-4c81-aad5-7af745647b9b');\n",
              "          const dataTable =\n",
              "            await google.colab.kernel.invokeFunction('convertToInteractive',\n",
              "                                                     [key], {});\n",
              "          if (!dataTable) return;\n",
              "\n",
              "          const docLinkHtml = 'Like what you see? Visit the ' +\n",
              "            '<a target=\"_blank\" href=https://colab.research.google.com/notebooks/data_table.ipynb>data table notebook</a>'\n",
              "            + ' to learn more about interactive tables.';\n",
              "          element.innerHTML = '';\n",
              "          dataTable['output_type'] = 'display_data';\n",
              "          await google.colab.output.renderOutput(dataTable, element);\n",
              "          const docLink = document.createElement('div');\n",
              "          docLink.innerHTML = docLinkHtml;\n",
              "          element.appendChild(docLink);\n",
              "        }\n",
              "      </script>\n",
              "    </div>\n",
              "  </div>\n",
              "  "
            ]
          },
          "metadata": {},
          "execution_count": 3
        }
      ]
    },
    {
      "cell_type": "code",
      "source": [
        "df['Label'] = df['Label'].replace({'yalan': 0, 'gerçek': 1})\n",
        "df[\"sentiment\"].replace({\"positive\": 1, \"negative\": 0}, inplace=True)"
      ],
      "metadata": {
        "id": "gM2x51qUY6zi"
      },
      "execution_count": 4,
      "outputs": []
    },
    {
      "cell_type": "code",
      "source": [
        "df.head()"
      ],
      "metadata": {
        "colab": {
          "base_uri": "https://localhost:8080/",
          "height": 647
        },
        "id": "aVZT6OB0jxBO",
        "outputId": "fa3b5028-0e29-4013-9d0e-f33af2e41d0c"
      },
      "execution_count": 5,
      "outputs": [
        {
          "output_type": "execute_result",
          "data": {
            "text/plain": [
              "   Unnamed: 0                                               Body  Label  \\\n",
              "0           0  Karadeniz için tiyatro festivali zamanı!  Devl...      1   \n",
              "1           1  Sözde Torbacının Haklı Gururu Dün gece 02 sula...      0   \n",
              "2           2  Buse'yi aramak için 400 bin liralık cihazını a...      1   \n",
              "3           3  West Ham 3-0 Southampton (MAÇ ÖZET)  Premier L...      1   \n",
              "4           4  AK Partili Yavuz duyurdu: YSK'ya ek dilekçe ve...      1   \n",
              "\n",
              "   character_count  word_count  letter_count  \\\n",
              "0             3691         476          2948   \n",
              "1              875         115           726   \n",
              "2              360          47           301   \n",
              "3              214          34           163   \n",
              "4             1105         143           925   \n",
              "\n",
              "   total_number_of_upper_characters  total_number_of_lower_characters  \\\n",
              "0                               245                              2703   \n",
              "1                                37                               689   \n",
              "2                                12                               289   \n",
              "3                                15                               148   \n",
              "4                                53                               872   \n",
              "\n",
              "   number_of_special_character  short_words  ...  MONEY  NORP  ORDINAL  ORG  \\\n",
              "0                           71          125  ...      0     2        0   16   \n",
              "1                           27           28  ...      0     1        0    6   \n",
              "2                            5           10  ...      0     0        0    2   \n",
              "3                            9           14  ...      0     0        0    2   \n",
              "4                           33           40  ...      0     1        0    6   \n",
              "\n",
              "   PERCENT  PERSON  PRODUCT  QUANTITY  TIME  WORK_OF_ART  \n",
              "0        0      61       11         0     0            0  \n",
              "1        0      14        0         2     0            0  \n",
              "2        0       6        0         0     0            0  \n",
              "3        0       2        0         0     0            0  \n",
              "4        0      15        0         0     0            1  \n",
              "\n",
              "[5 rows x 41 columns]"
            ],
            "text/html": [
              "\n",
              "  <div id=\"df-21f458f5-b1d6-4e0b-a173-dd26d554b08f\">\n",
              "    <div class=\"colab-df-container\">\n",
              "      <div>\n",
              "<style scoped>\n",
              "    .dataframe tbody tr th:only-of-type {\n",
              "        vertical-align: middle;\n",
              "    }\n",
              "\n",
              "    .dataframe tbody tr th {\n",
              "        vertical-align: top;\n",
              "    }\n",
              "\n",
              "    .dataframe thead th {\n",
              "        text-align: right;\n",
              "    }\n",
              "</style>\n",
              "<table border=\"1\" class=\"dataframe\">\n",
              "  <thead>\n",
              "    <tr style=\"text-align: right;\">\n",
              "      <th></th>\n",
              "      <th>Unnamed: 0</th>\n",
              "      <th>Body</th>\n",
              "      <th>Label</th>\n",
              "      <th>character_count</th>\n",
              "      <th>word_count</th>\n",
              "      <th>letter_count</th>\n",
              "      <th>total_number_of_upper_characters</th>\n",
              "      <th>total_number_of_lower_characters</th>\n",
              "      <th>number_of_special_character</th>\n",
              "      <th>short_words</th>\n",
              "      <th>...</th>\n",
              "      <th>MONEY</th>\n",
              "      <th>NORP</th>\n",
              "      <th>ORDINAL</th>\n",
              "      <th>ORG</th>\n",
              "      <th>PERCENT</th>\n",
              "      <th>PERSON</th>\n",
              "      <th>PRODUCT</th>\n",
              "      <th>QUANTITY</th>\n",
              "      <th>TIME</th>\n",
              "      <th>WORK_OF_ART</th>\n",
              "    </tr>\n",
              "  </thead>\n",
              "  <tbody>\n",
              "    <tr>\n",
              "      <th>0</th>\n",
              "      <td>0</td>\n",
              "      <td>Karadeniz için tiyatro festivali zamanı!  Devl...</td>\n",
              "      <td>1</td>\n",
              "      <td>3691</td>\n",
              "      <td>476</td>\n",
              "      <td>2948</td>\n",
              "      <td>245</td>\n",
              "      <td>2703</td>\n",
              "      <td>71</td>\n",
              "      <td>125</td>\n",
              "      <td>...</td>\n",
              "      <td>0</td>\n",
              "      <td>2</td>\n",
              "      <td>0</td>\n",
              "      <td>16</td>\n",
              "      <td>0</td>\n",
              "      <td>61</td>\n",
              "      <td>11</td>\n",
              "      <td>0</td>\n",
              "      <td>0</td>\n",
              "      <td>0</td>\n",
              "    </tr>\n",
              "    <tr>\n",
              "      <th>1</th>\n",
              "      <td>1</td>\n",
              "      <td>Sözde Torbacının Haklı Gururu Dün gece 02 sula...</td>\n",
              "      <td>0</td>\n",
              "      <td>875</td>\n",
              "      <td>115</td>\n",
              "      <td>726</td>\n",
              "      <td>37</td>\n",
              "      <td>689</td>\n",
              "      <td>27</td>\n",
              "      <td>28</td>\n",
              "      <td>...</td>\n",
              "      <td>0</td>\n",
              "      <td>1</td>\n",
              "      <td>0</td>\n",
              "      <td>6</td>\n",
              "      <td>0</td>\n",
              "      <td>14</td>\n",
              "      <td>0</td>\n",
              "      <td>2</td>\n",
              "      <td>0</td>\n",
              "      <td>0</td>\n",
              "    </tr>\n",
              "    <tr>\n",
              "      <th>2</th>\n",
              "      <td>2</td>\n",
              "      <td>Buse'yi aramak için 400 bin liralık cihazını a...</td>\n",
              "      <td>1</td>\n",
              "      <td>360</td>\n",
              "      <td>47</td>\n",
              "      <td>301</td>\n",
              "      <td>12</td>\n",
              "      <td>289</td>\n",
              "      <td>5</td>\n",
              "      <td>10</td>\n",
              "      <td>...</td>\n",
              "      <td>0</td>\n",
              "      <td>0</td>\n",
              "      <td>0</td>\n",
              "      <td>2</td>\n",
              "      <td>0</td>\n",
              "      <td>6</td>\n",
              "      <td>0</td>\n",
              "      <td>0</td>\n",
              "      <td>0</td>\n",
              "      <td>0</td>\n",
              "    </tr>\n",
              "    <tr>\n",
              "      <th>3</th>\n",
              "      <td>3</td>\n",
              "      <td>West Ham 3-0 Southampton (MAÇ ÖZET)  Premier L...</td>\n",
              "      <td>1</td>\n",
              "      <td>214</td>\n",
              "      <td>34</td>\n",
              "      <td>163</td>\n",
              "      <td>15</td>\n",
              "      <td>148</td>\n",
              "      <td>9</td>\n",
              "      <td>14</td>\n",
              "      <td>...</td>\n",
              "      <td>0</td>\n",
              "      <td>0</td>\n",
              "      <td>0</td>\n",
              "      <td>2</td>\n",
              "      <td>0</td>\n",
              "      <td>2</td>\n",
              "      <td>0</td>\n",
              "      <td>0</td>\n",
              "      <td>0</td>\n",
              "      <td>0</td>\n",
              "    </tr>\n",
              "    <tr>\n",
              "      <th>4</th>\n",
              "      <td>4</td>\n",
              "      <td>AK Partili Yavuz duyurdu: YSK'ya ek dilekçe ve...</td>\n",
              "      <td>1</td>\n",
              "      <td>1105</td>\n",
              "      <td>143</td>\n",
              "      <td>925</td>\n",
              "      <td>53</td>\n",
              "      <td>872</td>\n",
              "      <td>33</td>\n",
              "      <td>40</td>\n",
              "      <td>...</td>\n",
              "      <td>0</td>\n",
              "      <td>1</td>\n",
              "      <td>0</td>\n",
              "      <td>6</td>\n",
              "      <td>0</td>\n",
              "      <td>15</td>\n",
              "      <td>0</td>\n",
              "      <td>0</td>\n",
              "      <td>0</td>\n",
              "      <td>1</td>\n",
              "    </tr>\n",
              "  </tbody>\n",
              "</table>\n",
              "<p>5 rows × 41 columns</p>\n",
              "</div>\n",
              "      <button class=\"colab-df-convert\" onclick=\"convertToInteractive('df-21f458f5-b1d6-4e0b-a173-dd26d554b08f')\"\n",
              "              title=\"Convert this dataframe to an interactive table.\"\n",
              "              style=\"display:none;\">\n",
              "        \n",
              "  <svg xmlns=\"http://www.w3.org/2000/svg\" height=\"24px\"viewBox=\"0 0 24 24\"\n",
              "       width=\"24px\">\n",
              "    <path d=\"M0 0h24v24H0V0z\" fill=\"none\"/>\n",
              "    <path d=\"M18.56 5.44l.94 2.06.94-2.06 2.06-.94-2.06-.94-.94-2.06-.94 2.06-2.06.94zm-11 1L8.5 8.5l.94-2.06 2.06-.94-2.06-.94L8.5 2.5l-.94 2.06-2.06.94zm10 10l.94 2.06.94-2.06 2.06-.94-2.06-.94-.94-2.06-.94 2.06-2.06.94z\"/><path d=\"M17.41 7.96l-1.37-1.37c-.4-.4-.92-.59-1.43-.59-.52 0-1.04.2-1.43.59L10.3 9.45l-7.72 7.72c-.78.78-.78 2.05 0 2.83L4 21.41c.39.39.9.59 1.41.59.51 0 1.02-.2 1.41-.59l7.78-7.78 2.81-2.81c.8-.78.8-2.07 0-2.86zM5.41 20L4 18.59l7.72-7.72 1.47 1.35L5.41 20z\"/>\n",
              "  </svg>\n",
              "      </button>\n",
              "      \n",
              "  <style>\n",
              "    .colab-df-container {\n",
              "      display:flex;\n",
              "      flex-wrap:wrap;\n",
              "      gap: 12px;\n",
              "    }\n",
              "\n",
              "    .colab-df-convert {\n",
              "      background-color: #E8F0FE;\n",
              "      border: none;\n",
              "      border-radius: 50%;\n",
              "      cursor: pointer;\n",
              "      display: none;\n",
              "      fill: #1967D2;\n",
              "      height: 32px;\n",
              "      padding: 0 0 0 0;\n",
              "      width: 32px;\n",
              "    }\n",
              "\n",
              "    .colab-df-convert:hover {\n",
              "      background-color: #E2EBFA;\n",
              "      box-shadow: 0px 1px 2px rgba(60, 64, 67, 0.3), 0px 1px 3px 1px rgba(60, 64, 67, 0.15);\n",
              "      fill: #174EA6;\n",
              "    }\n",
              "\n",
              "    [theme=dark] .colab-df-convert {\n",
              "      background-color: #3B4455;\n",
              "      fill: #D2E3FC;\n",
              "    }\n",
              "\n",
              "    [theme=dark] .colab-df-convert:hover {\n",
              "      background-color: #434B5C;\n",
              "      box-shadow: 0px 1px 3px 1px rgba(0, 0, 0, 0.15);\n",
              "      filter: drop-shadow(0px 1px 2px rgba(0, 0, 0, 0.3));\n",
              "      fill: #FFFFFF;\n",
              "    }\n",
              "  </style>\n",
              "\n",
              "      <script>\n",
              "        const buttonEl =\n",
              "          document.querySelector('#df-21f458f5-b1d6-4e0b-a173-dd26d554b08f button.colab-df-convert');\n",
              "        buttonEl.style.display =\n",
              "          google.colab.kernel.accessAllowed ? 'block' : 'none';\n",
              "\n",
              "        async function convertToInteractive(key) {\n",
              "          const element = document.querySelector('#df-21f458f5-b1d6-4e0b-a173-dd26d554b08f');\n",
              "          const dataTable =\n",
              "            await google.colab.kernel.invokeFunction('convertToInteractive',\n",
              "                                                     [key], {});\n",
              "          if (!dataTable) return;\n",
              "\n",
              "          const docLinkHtml = 'Like what you see? Visit the ' +\n",
              "            '<a target=\"_blank\" href=https://colab.research.google.com/notebooks/data_table.ipynb>data table notebook</a>'\n",
              "            + ' to learn more about interactive tables.';\n",
              "          element.innerHTML = '';\n",
              "          dataTable['output_type'] = 'display_data';\n",
              "          await google.colab.output.renderOutput(dataTable, element);\n",
              "          const docLink = document.createElement('div');\n",
              "          docLink.innerHTML = docLinkHtml;\n",
              "          element.appendChild(docLink);\n",
              "        }\n",
              "      </script>\n",
              "    </div>\n",
              "  </div>\n",
              "  "
            ]
          },
          "metadata": {},
          "execution_count": 5
        }
      ]
    },
    {
      "cell_type": "code",
      "source": [
        "df[\"sentiment\"]"
      ],
      "metadata": {
        "colab": {
          "base_uri": "https://localhost:8080/"
        },
        "id": "c5fMHVnhZAdI",
        "outputId": "e05be5d8-8d9d-4dcb-cd75-4e19e3ed79c0"
      },
      "execution_count": 7,
      "outputs": [
        {
          "output_type": "execute_result",
          "data": {
            "text/plain": [
              "0       1\n",
              "1       0\n",
              "2       1\n",
              "3       0\n",
              "4       1\n",
              "       ..\n",
              "4450    0\n",
              "4451    1\n",
              "4452    0\n",
              "4453    0\n",
              "4454    1\n",
              "Name: sentiment, Length: 4455, dtype: int64"
            ]
          },
          "metadata": {},
          "execution_count": 7
        }
      ]
    },
    {
      "cell_type": "code",
      "source": [
        "features = [\"character_count\", \"word_count\", \"letter_count\",\n",
        "                      \"total_number_of_upper_characters\", \"total_number_of_lower_characters\",\n",
        "                      \"number_of_special_character\", \"short_words\", \"long_words\", \"number_of_different_words\",\"unique_word_types_count\"\n",
        "                      ,\"verb_count\",\"adjective_count\",\"determiners_count\",\"conjunction_count\",\"noun_count\",\n",
        "                      \"adverb_count\",\"preposition_count\",\"pronoun_count\",\n",
        "                      \"number_count\",\"sentiment\",\"CARDINAL\",\"DATE\",\"EVENT\",\"FAC\",\"GPE\",\n",
        "            \"LANGUAGE\",\"LAW\",\"LOC\",\"MONEY\",\"NORP\",\"ORDINAL\",\"ORG\",\"PERCENT\",\"PERSON\",\"PRODUCT\",\"QUANTITY\",\"TIME\",\"WORK_OF_ART\"]\n",
        "target = ['Label']\n",
        "\n",
        "X = df[features].values\n",
        "y = df[target].values"
      ],
      "metadata": {
        "id": "wBRHOEMAZZt5"
      },
      "execution_count": 8,
      "outputs": []
    },
    {
      "cell_type": "code",
      "source": [
        "#df.head()"
      ],
      "metadata": {
        "id": "mVOZoinTgU_Z"
      },
      "execution_count": 9,
      "outputs": []
    },
    {
      "cell_type": "markdown",
      "source": [
        "**LOGISTIC REGRESSİON**\n"
      ],
      "metadata": {
        "id": "6mPb7xvYjmEG"
      }
    },
    {
      "cell_type": "code",
      "source": [
        "from sklearn.feature_selection import SelectFromModel\n",
        "from sklearn.linear_model import LogisticRegression\n",
        "import numpy as np\n",
        "\n",
        "best_features = SelectFromModel(LogisticRegression())\n",
        "best_features.fit(X, y)\n",
        "\n",
        "transformedX = best_features.transform(X)\n",
        "print(f\"Old Shape: {X.shape}, New shape: {transformedX.shape}\")\n",
        "print(\"Selected features: \", best_features.get_support())\n",
        "print(\"Selected features: \", np.array(features)[best_features.get_support(indices=True)])"
      ],
      "metadata": {
        "colab": {
          "base_uri": "https://localhost:8080/"
        },
        "id": "zPhZtJxzdecx",
        "outputId": "fb2f54c6-ed3e-4949-a82b-db1596db81c1"
      },
      "execution_count": 10,
      "outputs": [
        {
          "output_type": "stream",
          "name": "stdout",
          "text": [
            "Old Shape: (4455, 38), New shape: (4455, 11)\n",
            "Selected features:  [ True False  True False False False False False  True  True False False\n",
            "  True  True False  True  True False  True False False False False False\n",
            " False False False False False False False  True False  True False False\n",
            " False False]\n",
            "Selected features:  ['character_count' 'letter_count' 'number_of_different_words'\n",
            " 'unique_word_types_count' 'determiners_count' 'conjunction_count'\n",
            " 'adverb_count' 'preposition_count' 'number_count' 'ORG' 'PERSON']\n"
          ]
        },
        {
          "output_type": "stream",
          "name": "stderr",
          "text": [
            "/usr/local/lib/python3.10/dist-packages/sklearn/utils/validation.py:1143: DataConversionWarning: A column-vector y was passed when a 1d array was expected. Please change the shape of y to (n_samples, ), for example using ravel().\n",
            "  y = column_or_1d(y, warn=True)\n",
            "/usr/local/lib/python3.10/dist-packages/sklearn/linear_model/_logistic.py:458: ConvergenceWarning: lbfgs failed to converge (status=1):\n",
            "STOP: TOTAL NO. of ITERATIONS REACHED LIMIT.\n",
            "\n",
            "Increase the number of iterations (max_iter) or scale the data as shown in:\n",
            "    https://scikit-learn.org/stable/modules/preprocessing.html\n",
            "Please also refer to the documentation for alternative solver options:\n",
            "    https://scikit-learn.org/stable/modules/linear_model.html#logistic-regression\n",
            "  n_iter_i = _check_optimize_result(\n"
          ]
        }
      ]
    },
    {
      "cell_type": "code",
      "source": [
        "#transformedX[:5]"
      ],
      "metadata": {
        "id": "jhuKltqlhPm-"
      },
      "execution_count": 11,
      "outputs": []
    },
    {
      "cell_type": "markdown",
      "source": [
        "%30 test - %70 train"
      ],
      "metadata": {
        "id": "UC3GQerbH5pJ"
      }
    },
    {
      "cell_type": "code",
      "source": [
        "from sklearn.model_selection import train_test_split\n",
        "from sklearn.metrics import accuracy_score , confusion_matrix\n",
        "from sklearn.metrics import precision_score, recall_score, f1_score,classification_report\n",
        "\n",
        "X_train, X_test, y_train, y_test = train_test_split(transformedX, y, test_size=0.3)\n",
        "\n",
        "model = LogisticRegression()\n",
        "model.fit(X_train, y_train)\n",
        "\n",
        "y_pred = model.predict(X_test)\n",
        "y_predictions = model.predict(X_test)\n",
        "conf_matrix = confusion_matrix(y_test, y_predictions)\n",
        "accuracy = accuracy_score(y_test, y_pred)\n",
        "print(\"Accuracy:\", accuracy)\n",
        "print(\"Classification Report:\\n\", classification_report(y_test, y_pred))\n",
        "print(f'Confussion matrix: \\n{conf_matrix}\\n')\n",
        "\n",
        "\n",
        "print(\"Accuracy:\", accuracy_score(y_test, y_pred))\n",
        "print(\"Precision:\", precision_score(y_test, y_pred, average='weighted'))\n",
        "print(\"Recall:\", recall_score(y_test, y_pred, average='weighted'))\n",
        "print(\"F1 score:\", f1_score(y_test, y_pred, average='weighted'))"
      ],
      "metadata": {
        "colab": {
          "base_uri": "https://localhost:8080/"
        },
        "id": "xywxPnFoCg22",
        "outputId": "e64525ef-ac80-498b-ef75-ac68f1b80479"
      },
      "execution_count": 12,
      "outputs": [
        {
          "output_type": "stream",
          "name": "stdout",
          "text": [
            "Accuracy: 0.9244577412116679\n",
            "Classification Report:\n",
            "               precision    recall  f1-score   support\n",
            "\n",
            "           0       0.93      0.91      0.92       649\n",
            "           1       0.92      0.93      0.93       688\n",
            "\n",
            "    accuracy                           0.92      1337\n",
            "   macro avg       0.92      0.92      0.92      1337\n",
            "weighted avg       0.92      0.92      0.92      1337\n",
            "\n",
            "Confussion matrix: \n",
            "[[593  56]\n",
            " [ 45 643]]\n",
            "\n",
            "Accuracy: 0.9244577412116679\n",
            "Precision: 0.9245365720810615\n",
            "Recall: 0.9244577412116679\n",
            "F1 score: 0.924434465785153\n"
          ]
        },
        {
          "output_type": "stream",
          "name": "stderr",
          "text": [
            "/usr/local/lib/python3.10/dist-packages/sklearn/utils/validation.py:1143: DataConversionWarning: A column-vector y was passed when a 1d array was expected. Please change the shape of y to (n_samples, ), for example using ravel().\n",
            "  y = column_or_1d(y, warn=True)\n",
            "/usr/local/lib/python3.10/dist-packages/sklearn/linear_model/_logistic.py:458: ConvergenceWarning: lbfgs failed to converge (status=1):\n",
            "STOP: TOTAL NO. of ITERATIONS REACHED LIMIT.\n",
            "\n",
            "Increase the number of iterations (max_iter) or scale the data as shown in:\n",
            "    https://scikit-learn.org/stable/modules/preprocessing.html\n",
            "Please also refer to the documentation for alternative solver options:\n",
            "    https://scikit-learn.org/stable/modules/linear_model.html#logistic-regression\n",
            "  n_iter_i = _check_optimize_result(\n"
          ]
        }
      ]
    },
    {
      "cell_type": "markdown",
      "source": [
        "%20 test %80 train"
      ],
      "metadata": {
        "id": "oogece8VH_6g"
      }
    },
    {
      "cell_type": "code",
      "source": [
        "from sklearn.model_selection import train_test_split\n",
        "from sklearn.metrics import accuracy_score , confusion_matrix\n",
        "from sklearn.metrics import precision_score, recall_score, f1_score,classification_report\n",
        "\n",
        "X_train, X_test, y_train, y_test = train_test_split(transformedX, y, test_size=0.2)\n",
        "\n",
        "model = LogisticRegression()\n",
        "model.fit(X_train, y_train)\n",
        "\n",
        "y_pred = model.predict(X_test)\n",
        "y_predictions = model.predict(X_test)\n",
        "conf_matrix = confusion_matrix(y_test, y_predictions)\n",
        "accuracy = accuracy_score(y_test, y_pred)\n",
        "print(\"Accuracy:\", accuracy)\n",
        "print(\"Classification Report:\\n\", classification_report(y_test, y_pred))\n",
        "print(f'Confussion matrix: \\n{conf_matrix}\\n')\n",
        "\n",
        "\n",
        "print(\"Accuracy:\", accuracy_score(y_test, y_pred))\n",
        "print(\"Precision:\", precision_score(y_test, y_pred, average='weighted'))\n",
        "print(\"Recall:\", recall_score(y_test, y_pred, average='weighted'))\n",
        "print(\"F1 score:\", f1_score(y_test, y_pred, average='weighted'))"
      ],
      "metadata": {
        "colab": {
          "base_uri": "https://localhost:8080/"
        },
        "id": "B0aO0UUrhuTv",
        "outputId": "81ba7422-cbb0-422f-92ab-b44ad73a5e2d"
      },
      "execution_count": 13,
      "outputs": [
        {
          "output_type": "stream",
          "name": "stdout",
          "text": [
            "Accuracy: 0.9135802469135802\n",
            "Classification Report:\n",
            "               precision    recall  f1-score   support\n",
            "\n",
            "           0       0.91      0.91      0.91       427\n",
            "           1       0.92      0.91      0.92       464\n",
            "\n",
            "    accuracy                           0.91       891\n",
            "   macro avg       0.91      0.91      0.91       891\n",
            "weighted avg       0.91      0.91      0.91       891\n",
            "\n",
            "Confussion matrix: \n",
            "[[390  37]\n",
            " [ 40 424]]\n",
            "\n",
            "Accuracy: 0.9135802469135802\n",
            "Precision: 0.9136232198163624\n",
            "Recall: 0.9135802469135802\n",
            "F1 score: 0.9135913665513044\n"
          ]
        },
        {
          "output_type": "stream",
          "name": "stderr",
          "text": [
            "/usr/local/lib/python3.10/dist-packages/sklearn/utils/validation.py:1143: DataConversionWarning: A column-vector y was passed when a 1d array was expected. Please change the shape of y to (n_samples, ), for example using ravel().\n",
            "  y = column_or_1d(y, warn=True)\n",
            "/usr/local/lib/python3.10/dist-packages/sklearn/linear_model/_logistic.py:458: ConvergenceWarning: lbfgs failed to converge (status=1):\n",
            "STOP: TOTAL NO. of ITERATIONS REACHED LIMIT.\n",
            "\n",
            "Increase the number of iterations (max_iter) or scale the data as shown in:\n",
            "    https://scikit-learn.org/stable/modules/preprocessing.html\n",
            "Please also refer to the documentation for alternative solver options:\n",
            "    https://scikit-learn.org/stable/modules/linear_model.html#logistic-regression\n",
            "  n_iter_i = _check_optimize_result(\n"
          ]
        }
      ]
    },
    {
      "cell_type": "markdown",
      "source": [
        "**DECISION TREE CLASSIFIER**"
      ],
      "metadata": {
        "id": "SxWwBT7gjwGb"
      }
    },
    {
      "cell_type": "code",
      "source": [
        "from sklearn.tree import DecisionTreeClassifier\n",
        "\n",
        "from sklearn.feature_selection import SelectFromModel\n",
        "\n",
        "import numpy as np\n",
        "\n",
        "best_features = SelectFromModel(DecisionTreeClassifier())\n",
        "best_features.fit(X, y)\n",
        "\n",
        "transformedX = best_features.transform(X)\n",
        "print(f\"Old Shape: {X.shape}, New shape: {transformedX.shape}\")\n",
        "print(\"Selected features: \", best_features.get_support())\n",
        "print(\"Selected features: \", np.array(features)[best_features.get_support(indices=True)])"
      ],
      "metadata": {
        "colab": {
          "base_uri": "https://localhost:8080/"
        },
        "id": "uy1OZnmFiRHd",
        "outputId": "1303ab3f-b2fa-4847-80ef-1aaf6169c50a"
      },
      "execution_count": 14,
      "outputs": [
        {
          "output_type": "stream",
          "name": "stdout",
          "text": [
            "Old Shape: (4455, 38), New shape: (4455, 6)\n",
            "Selected features:  [False False False  True False False False False  True  True False False\n",
            " False  True  True  True False False False False False False False False\n",
            " False False False False False False False False False False False False\n",
            " False False]\n",
            "Selected features:  ['total_number_of_upper_characters' 'number_of_different_words'\n",
            " 'unique_word_types_count' 'conjunction_count' 'noun_count' 'adverb_count']\n"
          ]
        }
      ]
    },
    {
      "cell_type": "code",
      "source": [
        "from sklearn.model_selection import train_test_split\n",
        "from sklearn.metrics import accuracy_score , confusion_matrix\n",
        "from sklearn.metrics import precision_score, recall_score, f1_score,classification_report\n",
        "\n",
        "X_train, X_test, y_train, y_test = train_test_split(transformedX, y, test_size=0.3)\n",
        "\n",
        "model = (DecisionTreeClassifier())\n",
        "model.fit(X_train, y_train)\n",
        "\n",
        "y_pred = model.predict(X_test)\n",
        "y_predictions = model.predict(X_test)\n",
        "conf_matrix = confusion_matrix(y_test, y_predictions)\n",
        "accuracy = accuracy_score(y_test, y_pred)\n",
        "print(\"Accuracy:\", accuracy)\n",
        "print(\"Classification Report:\\n\", classification_report(y_test, y_pred))\n",
        "print(f'Confussion matrix: \\n{conf_matrix}\\n')\n",
        "\n",
        "print(\"Accuracy:\", accuracy_score(y_test, y_pred))\n",
        "print(\"Precision:\", precision_score(y_test, y_pred, average='weighted'))\n",
        "print(\"Recall:\", recall_score(y_test, y_pred, average='weighted'))\n",
        "print(\"F1 score:\", f1_score(y_test, y_pred, average='weighted'))"
      ],
      "metadata": {
        "colab": {
          "base_uri": "https://localhost:8080/"
        },
        "id": "fMv2qFLkCm8M",
        "outputId": "087961ce-8e2d-42b7-c7f6-8e7b7dee76ff"
      },
      "execution_count": 15,
      "outputs": [
        {
          "output_type": "stream",
          "name": "stdout",
          "text": [
            "Accuracy: 0.8324607329842932\n",
            "Classification Report:\n",
            "               precision    recall  f1-score   support\n",
            "\n",
            "           0       0.84      0.83      0.83       672\n",
            "           1       0.83      0.84      0.83       665\n",
            "\n",
            "    accuracy                           0.83      1337\n",
            "   macro avg       0.83      0.83      0.83      1337\n",
            "weighted avg       0.83      0.83      0.83      1337\n",
            "\n",
            "Confussion matrix: \n",
            "[[555 117]\n",
            " [107 558]]\n",
            "\n",
            "Accuracy: 0.8324607329842932\n",
            "Precision: 0.8325482566446802\n",
            "Recall: 0.8324607329842932\n",
            "F1 score: 0.8324579212308357\n"
          ]
        }
      ]
    },
    {
      "cell_type": "code",
      "source": [
        "from sklearn.model_selection import train_test_split\n",
        "from sklearn.metrics import accuracy_score , confusion_matrix\n",
        "from sklearn.metrics import precision_score, recall_score, f1_score,classification_report\n",
        "\n",
        "X_train, X_test, y_train, y_test = train_test_split(transformedX, y, test_size=0.2)\n",
        "\n",
        "model = (DecisionTreeClassifier())\n",
        "model.fit(X_train, y_train)\n",
        "\n",
        "y_pred = model.predict(X_test)\n",
        "y_predictions = model.predict(X_test)\n",
        "conf_matrix = confusion_matrix(y_test, y_predictions)\n",
        "accuracy = accuracy_score(y_test, y_pred)\n",
        "print(\"Accuracy:\", accuracy)\n",
        "print(\"Classification Report:\\n\", classification_report(y_test, y_pred))\n",
        "print(f'Confussion matrix: \\n{conf_matrix}\\n')\n",
        "\n",
        "print(\"Accuracy:\", accuracy_score(y_test, y_pred))\n",
        "print(\"Precision:\", precision_score(y_test, y_pred, average='weighted'))\n",
        "print(\"Recall:\", recall_score(y_test, y_pred, average='weighted'))\n",
        "print(\"F1 score:\", f1_score(y_test, y_pred, average='weighted'))"
      ],
      "metadata": {
        "colab": {
          "base_uri": "https://localhost:8080/"
        },
        "id": "zjeH95kJjAbk",
        "outputId": "62621d78-0df3-4186-9776-494e142a033c"
      },
      "execution_count": 16,
      "outputs": [
        {
          "output_type": "stream",
          "name": "stdout",
          "text": [
            "Accuracy: 0.8439955106621774\n",
            "Classification Report:\n",
            "               precision    recall  f1-score   support\n",
            "\n",
            "           0       0.85      0.83      0.84       440\n",
            "           1       0.84      0.85      0.85       451\n",
            "\n",
            "    accuracy                           0.84       891\n",
            "   macro avg       0.84      0.84      0.84       891\n",
            "weighted avg       0.84      0.84      0.84       891\n",
            "\n",
            "Confussion matrix: \n",
            "[[367  73]\n",
            " [ 66 385]]\n",
            "\n",
            "Accuracy: 0.8439955106621774\n",
            "Precision: 0.8440502198969411\n",
            "Recall: 0.8439955106621774\n",
            "F1 score: 0.8439707404621078\n"
          ]
        }
      ]
    },
    {
      "cell_type": "markdown",
      "source": [
        "**LinearSVC**"
      ],
      "metadata": {
        "id": "HRIP_0-Nk4ve"
      }
    },
    {
      "cell_type": "code",
      "source": [
        "from sklearn.svm import LinearSVC\n",
        "\n",
        "from sklearn.feature_selection import SelectFromModel\n",
        "\n",
        "import numpy as np\n",
        "\n",
        "best_features = SelectFromModel(LinearSVC())\n",
        "best_features.fit(X, y)\n",
        "\n",
        "transformedX = best_features.transform(X)\n",
        "print(f\"Old Shape: {X.shape}, New shape: {transformedX.shape}\")\n",
        "print(\"Selected features: \", best_features.get_support())\n",
        "print(\"Selected features: \", np.array(features)[best_features.get_support(indices=True)])\n"
      ],
      "metadata": {
        "colab": {
          "base_uri": "https://localhost:8080/"
        },
        "id": "p-a_InnFkWfK",
        "outputId": "1574aca8-2290-4242-8c24-161524558b8e"
      },
      "execution_count": 17,
      "outputs": [
        {
          "output_type": "stream",
          "name": "stderr",
          "text": [
            "/usr/local/lib/python3.10/dist-packages/sklearn/utils/validation.py:1143: DataConversionWarning: A column-vector y was passed when a 1d array was expected. Please change the shape of y to (n_samples, ), for example using ravel().\n",
            "  y = column_or_1d(y, warn=True)\n"
          ]
        },
        {
          "output_type": "stream",
          "name": "stdout",
          "text": [
            "Old Shape: (4455, 38), New shape: (4455, 14)\n",
            "Selected features:  [ True False  True False False False False False  True  True False False\n",
            "  True  True False  True  True  True  True  True  True False False False\n",
            "  True False False False False  True False False False False False False\n",
            " False False]\n",
            "Selected features:  ['character_count' 'letter_count' 'number_of_different_words'\n",
            " 'unique_word_types_count' 'determiners_count' 'conjunction_count'\n",
            " 'adverb_count' 'preposition_count' 'pronoun_count' 'number_count'\n",
            " 'sentiment' 'CARDINAL' 'GPE' 'NORP']\n"
          ]
        },
        {
          "output_type": "stream",
          "name": "stderr",
          "text": [
            "/usr/local/lib/python3.10/dist-packages/sklearn/svm/_base.py:1244: ConvergenceWarning: Liblinear failed to converge, increase the number of iterations.\n",
            "  warnings.warn(\n"
          ]
        }
      ]
    },
    {
      "cell_type": "code",
      "source": [
        "from sklearn.model_selection import train_test_split\n",
        "from sklearn.metrics import accuracy_score , confusion_matrix\n",
        "from sklearn.metrics import precision_score, recall_score, f1_score,classification_report\n",
        "\n",
        "X_train, X_test, y_train, y_test = train_test_split(transformedX, y, test_size=0.3)\n",
        "\n",
        "model = (LinearSVC())\n",
        "model.fit(X_train, y_train)\n",
        "\n",
        "y_pred = model.predict(X_test)\n",
        "y_predictions = model.predict(X_test)\n",
        "conf_matrix = confusion_matrix(y_test, y_predictions)\n",
        "accuracy = accuracy_score(y_test, y_pred)\n",
        "print(\"Accuracy:\", accuracy)\n",
        "print(\"Classification Report:\\n\", classification_report(y_test, y_pred))\n",
        "print(f'Confussion matrix: \\n{conf_matrix}\\n')\n",
        "\n",
        "print(\"Accuracy:\", accuracy_score(y_test, y_pred))\n",
        "print(\"Precision:\", precision_score(y_test, y_pred, average='weighted'))\n",
        "print(\"Recall:\", recall_score(y_test, y_pred, average='weighted'))\n",
        "print(\"F1 score:\", f1_score(y_test, y_pred, average='weighted'))"
      ],
      "metadata": {
        "colab": {
          "base_uri": "https://localhost:8080/"
        },
        "id": "pjvnNnpYCrVl",
        "outputId": "7c86a5c0-479c-4e64-f595-a7194a73ff1f"
      },
      "execution_count": 18,
      "outputs": [
        {
          "output_type": "stream",
          "name": "stdout",
          "text": [
            "Accuracy: 0.8803290949887809\n",
            "Classification Report:\n",
            "               precision    recall  f1-score   support\n",
            "\n",
            "           0       0.96      0.78      0.86       639\n",
            "           1       0.83      0.97      0.89       698\n",
            "\n",
            "    accuracy                           0.88      1337\n",
            "   macro avg       0.89      0.88      0.88      1337\n",
            "weighted avg       0.89      0.88      0.88      1337\n",
            "\n",
            "Confussion matrix: \n",
            "[[501 138]\n",
            " [ 22 676]]\n",
            "\n",
            "Accuracy: 0.8803290949887809\n",
            "Precision: 0.8913884117852364\n",
            "Recall: 0.8803290949887809\n",
            "F1 score: 0.8789463990282224\n"
          ]
        },
        {
          "output_type": "stream",
          "name": "stderr",
          "text": [
            "/usr/local/lib/python3.10/dist-packages/sklearn/utils/validation.py:1143: DataConversionWarning: A column-vector y was passed when a 1d array was expected. Please change the shape of y to (n_samples, ), for example using ravel().\n",
            "  y = column_or_1d(y, warn=True)\n",
            "/usr/local/lib/python3.10/dist-packages/sklearn/svm/_base.py:1244: ConvergenceWarning: Liblinear failed to converge, increase the number of iterations.\n",
            "  warnings.warn(\n"
          ]
        }
      ]
    },
    {
      "cell_type": "code",
      "source": [
        "from sklearn.model_selection import train_test_split\n",
        "from sklearn.metrics import accuracy_score , confusion_matrix\n",
        "from sklearn.metrics import precision_score, recall_score, f1_score,classification_report\n",
        "\n",
        "X_train, X_test, y_train, y_test = train_test_split(transformedX, y, test_size=0.2)\n",
        "\n",
        "model = (LinearSVC())\n",
        "model.fit(X_train, y_train)\n",
        "\n",
        "y_pred = model.predict(X_test)\n",
        "y_predictions = model.predict(X_test)\n",
        "conf_matrix = confusion_matrix(y_test, y_predictions)\n",
        "accuracy = accuracy_score(y_test, y_pred)\n",
        "print(\"Accuracy:\", accuracy)\n",
        "print(\"Classification Report:\\n\", classification_report(y_test, y_pred))\n",
        "print(f'Confussion matrix: \\n{conf_matrix}\\n')\n",
        "\n",
        "print(\"Accuracy:\", accuracy_score(y_test, y_pred))\n",
        "print(\"Precision:\", precision_score(y_test, y_pred, average='weighted'))\n",
        "print(\"Recall:\", recall_score(y_test, y_pred, average='weighted'))\n",
        "print(\"F1 score:\", f1_score(y_test, y_pred, average='weighted'))"
      ],
      "metadata": {
        "colab": {
          "base_uri": "https://localhost:8080/"
        },
        "id": "Do3jZfOhkqYs",
        "outputId": "fae7599d-e8fb-449c-c04d-cafb7d0a8299"
      },
      "execution_count": 19,
      "outputs": [
        {
          "output_type": "stream",
          "name": "stdout",
          "text": [
            "Accuracy: 0.819304152637486\n",
            "Classification Report:\n",
            "               precision    recall  f1-score   support\n",
            "\n",
            "           0       0.73      0.98      0.84       433\n",
            "           1       0.98      0.66      0.79       458\n",
            "\n",
            "    accuracy                           0.82       891\n",
            "   macro avg       0.86      0.82      0.82       891\n",
            "weighted avg       0.86      0.82      0.82       891\n",
            "\n",
            "Confussion matrix: \n",
            "[[426   7]\n",
            " [154 304]]\n",
            "\n",
            "Accuracy: 0.819304152637486\n",
            "Precision: 0.8593965800344926\n",
            "Recall: 0.819304152637486\n",
            "F1 score: 0.8151441888294104\n"
          ]
        },
        {
          "output_type": "stream",
          "name": "stderr",
          "text": [
            "/usr/local/lib/python3.10/dist-packages/sklearn/utils/validation.py:1143: DataConversionWarning: A column-vector y was passed when a 1d array was expected. Please change the shape of y to (n_samples, ), for example using ravel().\n",
            "  y = column_or_1d(y, warn=True)\n",
            "/usr/local/lib/python3.10/dist-packages/sklearn/svm/_base.py:1244: ConvergenceWarning: Liblinear failed to converge, increase the number of iterations.\n",
            "  warnings.warn(\n"
          ]
        }
      ]
    },
    {
      "cell_type": "markdown",
      "source": [
        "Random Forest\n"
      ],
      "metadata": {
        "id": "lwQPjsWZT2hH"
      }
    },
    {
      "cell_type": "code",
      "source": [
        "from sklearn.ensemble import RandomForestClassifier\n",
        "\n",
        "from sklearn.feature_selection import SelectFromModel\n",
        "\n",
        "import numpy as np\n",
        "\n",
        "best_features = SelectFromModel(RandomForestClassifier())\n",
        "best_features.fit(X, y)\n",
        "\n",
        "transformedX = best_features.transform(X)\n",
        "print(f\"Old Shape: {X.shape}, New shape: {transformedX.shape}\")\n",
        "print(\"Selected features: \", best_features.get_support())\n",
        "print(\"Selected features: \", np.array(features)[best_features.get_support(indices=True)])\n"
      ],
      "metadata": {
        "colab": {
          "base_uri": "https://localhost:8080/"
        },
        "id": "oY7HvBdEUXaH",
        "outputId": "74ddb021-39c2-432d-85f6-4473b66a38e3"
      },
      "execution_count": 20,
      "outputs": [
        {
          "output_type": "stream",
          "name": "stderr",
          "text": [
            "/usr/local/lib/python3.10/dist-packages/sklearn/feature_selection/_from_model.py:357: DataConversionWarning: A column-vector y was passed when a 1d array was expected. Please change the shape of y to (n_samples,), for example using ravel().\n",
            "  self.estimator_.fit(X, y, **fit_params)\n"
          ]
        },
        {
          "output_type": "stream",
          "name": "stdout",
          "text": [
            "Old Shape: (4455, 38), New shape: (4455, 12)\n",
            "Selected features:  [False False  True  True  True False False False  True  True  True  True\n",
            " False  True  True  True  True  True False False False False False False\n",
            " False False False False False False False False False False False False\n",
            " False False]\n",
            "Selected features:  ['letter_count' 'total_number_of_upper_characters'\n",
            " 'total_number_of_lower_characters' 'number_of_different_words'\n",
            " 'unique_word_types_count' 'verb_count' 'adjective_count'\n",
            " 'conjunction_count' 'noun_count' 'adverb_count' 'preposition_count'\n",
            " 'pronoun_count']\n"
          ]
        }
      ]
    },
    {
      "cell_type": "code",
      "source": [
        "from sklearn.model_selection import train_test_split\n",
        "from sklearn.metrics import accuracy_score , confusion_matrix\n",
        "from sklearn.metrics import precision_score, recall_score, f1_score,classification_report\n",
        "\n",
        "X_train, X_test, y_train, y_test = train_test_split(transformedX, y, test_size=0.3)\n",
        "\n",
        "model = (RandomForestClassifier())\n",
        "model.fit(X_train, y_train)\n",
        "\n",
        "y_pred = model.predict(X_test)\n",
        "y_predictions = model.predict(X_test)\n",
        "conf_matrix = confusion_matrix(y_test, y_predictions)\n",
        "accuracy = accuracy_score(y_test, y_pred)\n",
        "print(\"Accuracy:\", accuracy)\n",
        "print(\"Classification Report:\\n\", classification_report(y_test, y_pred))\n",
        "print(f'Confussion matrix: \\n{conf_matrix}\\n')\n",
        "\n",
        "print(\"Accuracy:\", accuracy_score(y_test, y_pred))\n",
        "print(\"Precision:\", precision_score(y_test, y_pred, average='weighted'))\n",
        "print(\"Recall:\", recall_score(y_test, y_pred, average='weighted'))\n",
        "print(\"F1 score:\", f1_score(y_test, y_pred, average='weighted'))"
      ],
      "metadata": {
        "colab": {
          "base_uri": "https://localhost:8080/"
        },
        "id": "iaJ3hm3kCtm5",
        "outputId": "f9c6ff05-9cc9-43ab-8572-79bce450e0f1"
      },
      "execution_count": 21,
      "outputs": [
        {
          "output_type": "stream",
          "name": "stderr",
          "text": [
            "<ipython-input-21-429aa1d00c2a>:8: DataConversionWarning: A column-vector y was passed when a 1d array was expected. Please change the shape of y to (n_samples,), for example using ravel().\n",
            "  model.fit(X_train, y_train)\n"
          ]
        },
        {
          "output_type": "stream",
          "name": "stdout",
          "text": [
            "Accuracy: 0.8975317875841436\n",
            "Classification Report:\n",
            "               precision    recall  f1-score   support\n",
            "\n",
            "           0       0.90      0.89      0.90       663\n",
            "           1       0.89      0.91      0.90       674\n",
            "\n",
            "    accuracy                           0.90      1337\n",
            "   macro avg       0.90      0.90      0.90      1337\n",
            "weighted avg       0.90      0.90      0.90      1337\n",
            "\n",
            "Confussion matrix: \n",
            "[[589  74]\n",
            " [ 63 611]]\n",
            "\n",
            "Accuracy: 0.8975317875841436\n",
            "Precision: 0.897625607877562\n",
            "Recall: 0.8975317875841436\n",
            "F1 score: 0.8975179117430926\n"
          ]
        }
      ]
    },
    {
      "cell_type": "code",
      "source": [
        "from sklearn.model_selection import train_test_split\n",
        "from sklearn.metrics import accuracy_score , confusion_matrix\n",
        "from sklearn.metrics import precision_score, recall_score, f1_score,classification_report\n",
        "\n",
        "X_train, X_test, y_train, y_test = train_test_split(transformedX, y, test_size=0.2)\n",
        "\n",
        "model = (RandomForestClassifier())\n",
        "model.fit(X_train, y_train)\n",
        "\n",
        "y_pred = model.predict(X_test)\n",
        "y_predictions = model.predict(X_test)\n",
        "conf_matrix = confusion_matrix(y_test, y_predictions)\n",
        "accuracy = accuracy_score(y_test, y_pred)\n",
        "print(\"Accuracy:\", accuracy)\n",
        "print(\"Classification Report:\\n\", classification_report(y_test, y_pred))\n",
        "print(f'Confussion matrix: \\n{conf_matrix}\\n')\n",
        "\n",
        "print(\"Accuracy:\", accuracy_score(y_test, y_pred))\n",
        "print(\"Precision:\", precision_score(y_test, y_pred, average='weighted'))\n",
        "print(\"Recall:\", recall_score(y_test, y_pred, average='weighted'))\n",
        "print(\"F1 score:\", f1_score(y_test, y_pred, average='weighted'))"
      ],
      "metadata": {
        "colab": {
          "base_uri": "https://localhost:8080/"
        },
        "id": "jRmnZsqIT-XX",
        "outputId": "543771ea-f34c-4723-f08b-5f4a68ab840c"
      },
      "execution_count": 22,
      "outputs": [
        {
          "output_type": "stream",
          "name": "stderr",
          "text": [
            "<ipython-input-22-72c2ccf04efa>:8: DataConversionWarning: A column-vector y was passed when a 1d array was expected. Please change the shape of y to (n_samples,), for example using ravel().\n",
            "  model.fit(X_train, y_train)\n"
          ]
        },
        {
          "output_type": "stream",
          "name": "stdout",
          "text": [
            "Accuracy: 0.9034792368125701\n",
            "Classification Report:\n",
            "               precision    recall  f1-score   support\n",
            "\n",
            "           0       0.89      0.91      0.90       408\n",
            "           1       0.92      0.90      0.91       483\n",
            "\n",
            "    accuracy                           0.90       891\n",
            "   macro avg       0.90      0.90      0.90       891\n",
            "weighted avg       0.90      0.90      0.90       891\n",
            "\n",
            "Confussion matrix: \n",
            "[[370  38]\n",
            " [ 48 435]]\n",
            "\n",
            "Accuracy: 0.9034792368125701\n",
            "Precision: 0.9038663778844038\n",
            "Recall: 0.9034792368125701\n",
            "F1 score: 0.9035586872265123\n"
          ]
        }
      ]
    },
    {
      "cell_type": "markdown",
      "source": [
        "Gradient Boosting "
      ],
      "metadata": {
        "id": "1zoP8vyQVR3o"
      }
    },
    {
      "cell_type": "code",
      "source": [
        "from sklearn.ensemble import GradientBoostingClassifier\n",
        "\n",
        "from sklearn.feature_selection import SelectFromModel\n",
        "\n",
        "import numpy as np\n",
        "\n",
        "best_features = SelectFromModel(GradientBoostingClassifier())\n",
        "best_features.fit(X, y)\n",
        "\n",
        "transformedX = best_features.transform(X)\n",
        "print(f\"Old Shape: {X.shape}, New shape: {transformedX.shape}\")\n",
        "print(\"Selected features: \", best_features.get_support())\n",
        "print(\"Selected features: \", np.array(features)[best_features.get_support(indices=True)])\n"
      ],
      "metadata": {
        "colab": {
          "base_uri": "https://localhost:8080/"
        },
        "id": "ZYK-99AqU3yg",
        "outputId": "fa3e9264-c6b8-420c-e1a6-49b22fda13a5"
      },
      "execution_count": 23,
      "outputs": [
        {
          "output_type": "stream",
          "name": "stderr",
          "text": [
            "/usr/local/lib/python3.10/dist-packages/sklearn/ensemble/_gb.py:437: DataConversionWarning: A column-vector y was passed when a 1d array was expected. Please change the shape of y to (n_samples, ), for example using ravel().\n",
            "  y = column_or_1d(y, warn=True)\n"
          ]
        },
        {
          "output_type": "stream",
          "name": "stdout",
          "text": [
            "Old Shape: (4455, 38), New shape: (4455, 6)\n",
            "Selected features:  [False False False  True False False False False False  True False False\n",
            " False  True  True  True False False  True False False False False False\n",
            " False False False False False False False False False False False False\n",
            " False False]\n",
            "Selected features:  ['total_number_of_upper_characters' 'unique_word_types_count'\n",
            " 'conjunction_count' 'noun_count' 'adverb_count' 'number_count']\n"
          ]
        }
      ]
    },
    {
      "cell_type": "code",
      "source": [
        "from sklearn.model_selection import train_test_split\n",
        "from sklearn.metrics import accuracy_score , confusion_matrix\n",
        "from sklearn.metrics import precision_score, recall_score, f1_score,classification_report\n",
        "\n",
        "X_train, X_test, y_train, y_test = train_test_split(transformedX, y, test_size=0.3)\n",
        "\n",
        "model = (GradientBoostingClassifier())\n",
        "model.fit(X_train, y_train)\n",
        "\n",
        "y_pred = model.predict(X_test)\n",
        "y_predictions = model.predict(X_test)\n",
        "conf_matrix = confusion_matrix(y_test, y_predictions)\n",
        "accuracy = accuracy_score(y_test, y_pred)\n",
        "print(\"Accuracy:\", accuracy)\n",
        "print(\"Classification Report:\\n\", classification_report(y_test, y_pred))\n",
        "print(f'Confussion matrix: \\n{conf_matrix}\\n')\n",
        "\n",
        "print(\"Accuracy:\", accuracy_score(y_test, y_pred))\n",
        "print(\"Precision:\", precision_score(y_test, y_pred, average='weighted'))\n",
        "print(\"Recall:\", recall_score(y_test, y_pred, average='weighted'))\n",
        "print(\"F1 score:\", f1_score(y_test, y_pred, average='weighted'))"
      ],
      "metadata": {
        "colab": {
          "base_uri": "https://localhost:8080/"
        },
        "id": "Pzl8y6JoCv5p",
        "outputId": "375c3a9d-c841-45d0-bb86-ca01cfd369b1"
      },
      "execution_count": 24,
      "outputs": [
        {
          "output_type": "stream",
          "name": "stderr",
          "text": [
            "/usr/local/lib/python3.10/dist-packages/sklearn/ensemble/_gb.py:437: DataConversionWarning: A column-vector y was passed when a 1d array was expected. Please change the shape of y to (n_samples, ), for example using ravel().\n",
            "  y = column_or_1d(y, warn=True)\n"
          ]
        },
        {
          "output_type": "stream",
          "name": "stdout",
          "text": [
            "Accuracy: 0.8885564697083022\n",
            "Classification Report:\n",
            "               precision    recall  f1-score   support\n",
            "\n",
            "           0       0.90      0.88      0.89       659\n",
            "           1       0.88      0.90      0.89       678\n",
            "\n",
            "    accuracy                           0.89      1337\n",
            "   macro avg       0.89      0.89      0.89      1337\n",
            "weighted avg       0.89      0.89      0.89      1337\n",
            "\n",
            "Confussion matrix: \n",
            "[[577  82]\n",
            " [ 67 611]]\n",
            "\n",
            "Accuracy: 0.8885564697083022\n",
            "Precision: 0.888716778435812\n",
            "Recall: 0.8885564697083022\n",
            "F1 score: 0.8885246538849464\n"
          ]
        }
      ]
    },
    {
      "cell_type": "code",
      "source": [
        "from sklearn.model_selection import train_test_split\n",
        "from sklearn.metrics import accuracy_score , confusion_matrix\n",
        "from sklearn.metrics import precision_score, recall_score, f1_score,classification_report\n",
        "\n",
        "X_train, X_test, y_train, y_test = train_test_split(transformedX, y, test_size=0.2)\n",
        "\n",
        "model = (GradientBoostingClassifier())\n",
        "model.fit(X_train, y_train)\n",
        "\n",
        "y_pred = model.predict(X_test)\n",
        "y_predictions = model.predict(X_test)\n",
        "conf_matrix = confusion_matrix(y_test, y_predictions)\n",
        "accuracy = accuracy_score(y_test, y_pred)\n",
        "print(\"Accuracy:\", accuracy)\n",
        "print(\"Classification Report:\\n\", classification_report(y_test, y_pred))\n",
        "print(f'Confussion matrix: \\n{conf_matrix}\\n')\n",
        "\n",
        "print(\"Accuracy:\", accuracy_score(y_test, y_pred))\n",
        "print(\"Precision:\", precision_score(y_test, y_pred, average='weighted'))\n",
        "print(\"Recall:\", recall_score(y_test, y_pred, average='weighted'))\n",
        "print(\"F1 score:\", f1_score(y_test, y_pred, average='weighted'))"
      ],
      "metadata": {
        "colab": {
          "base_uri": "https://localhost:8080/"
        },
        "id": "m0WkO8UqVbbb",
        "outputId": "7521306e-e2b3-46b6-a2a0-79808d86c80a"
      },
      "execution_count": 25,
      "outputs": [
        {
          "output_type": "stream",
          "name": "stderr",
          "text": [
            "/usr/local/lib/python3.10/dist-packages/sklearn/ensemble/_gb.py:437: DataConversionWarning: A column-vector y was passed when a 1d array was expected. Please change the shape of y to (n_samples, ), for example using ravel().\n",
            "  y = column_or_1d(y, warn=True)\n"
          ]
        },
        {
          "output_type": "stream",
          "name": "stdout",
          "text": [
            "Accuracy: 0.8832772166105499\n",
            "Classification Report:\n",
            "               precision    recall  f1-score   support\n",
            "\n",
            "           0       0.89      0.87      0.88       445\n",
            "           1       0.87      0.90      0.88       446\n",
            "\n",
            "    accuracy                           0.88       891\n",
            "   macro avg       0.88      0.88      0.88       891\n",
            "weighted avg       0.88      0.88      0.88       891\n",
            "\n",
            "Confussion matrix: \n",
            "[[387  58]\n",
            " [ 46 400]]\n",
            "\n",
            "Accuracy: 0.8832772166105499\n",
            "Precision: 0.8835519908700152\n",
            "Recall: 0.8832772166105499\n",
            "F1 score: 0.883254275349477\n"
          ]
        }
      ]
    }
  ]
}