{
  "nbformat": 4,
  "nbformat_minor": 0,
  "metadata": {
    "colab": {
      "provenance": []
    },
    "kernelspec": {
      "name": "python3",
      "display_name": "Python 3"
    },
    "language_info": {
      "name": "python"
    }
  },
  "cells": [
    {
      "cell_type": "code",
      "source": [
        "!pip install gensim"
      ],
      "metadata": {
        "colab": {
          "base_uri": "https://localhost:8080/"
        },
        "id": "laNKo0MNE2bN",
        "outputId": "f6daa932-d398-4af7-b9cc-0f9dc4e0b1ce"
      },
      "execution_count": null,
      "outputs": [
        {
          "output_type": "stream",
          "name": "stdout",
          "text": [
            "Looking in indexes: https://pypi.org/simple, https://us-python.pkg.dev/colab-wheels/public/simple/\n",
            "Requirement already satisfied: gensim in /usr/local/lib/python3.10/dist-packages (4.3.1)\n",
            "Requirement already satisfied: numpy>=1.18.5 in /usr/local/lib/python3.10/dist-packages (from gensim) (1.22.4)\n",
            "Requirement already satisfied: scipy>=1.7.0 in /usr/local/lib/python3.10/dist-packages (from gensim) (1.10.1)\n",
            "Requirement already satisfied: smart-open>=1.8.1 in /usr/local/lib/python3.10/dist-packages (from gensim) (6.3.0)\n"
          ]
        }
      ]
    },
    {
      "cell_type": "code",
      "execution_count": null,
      "metadata": {
        "id": "VdpY0m8sJoO1"
      },
      "outputs": [],
      "source": [
        "from keras.preprocessing.text import Tokenizer\n",
        "from tensorflow.keras.preprocessing.sequence import pad_sequences\n",
        "from keras.models import Sequential\n",
        "from keras.layers import Embedding, Flatten, Dense\n",
        "import numpy as np"
      ]
    },
    {
      "cell_type": "code",
      "source": [
        "import pandas as pd\n",
        "data_path = 'clean_news.csv'\n",
        "df = pd.read_csv(data_path, error_bad_lines=False)"
      ],
      "metadata": {
        "colab": {
          "base_uri": "https://localhost:8080/"
        },
        "id": "Q0qGbN_70qOK",
        "outputId": "dbabd6da-1916-49fa-da82-289d60a93bef"
      },
      "execution_count": null,
      "outputs": [
        {
          "output_type": "stream",
          "name": "stderr",
          "text": [
            "<ipython-input-4-e32f548c7113>:3: FutureWarning: The error_bad_lines argument has been deprecated and will be removed in a future version. Use on_bad_lines in the future.\n",
            "\n",
            "\n",
            "  df = pd.read_csv(data_path, error_bad_lines=False)\n"
          ]
        }
      ]
    },
    {
      "cell_type": "code",
      "source": [
        "# Display the first 10 rows of the DataFrame\n",
        "df.head(10)"
      ],
      "metadata": {
        "colab": {
          "base_uri": "https://localhost:8080/",
          "height": 363
        },
        "id": "v98rTZge1LIa",
        "outputId": "9f981c11-b9c0-4948-d1c9-9c7aaf4903c1"
      },
      "execution_count": null,
      "outputs": [
        {
          "output_type": "execute_result",
          "data": {
            "text/plain": [
              "                                                Body   Label\n",
              "0  karadeniz tiyatro festivali zamanı devlet tiya...  gerçek\n",
              "1  sözde torbacının haklı gururu dün gece suların...   yalan\n",
              "2  buseyi aramak bin liralık cihazını alıp geldi ...  gerçek\n",
              "3  west ham southampton maç özet premier ligin ha...  gerçek\n",
              "4  ak partili yavuz duyurdu yskya ek dilekçe vere...  gerçek\n",
              "5  onlar türkiyenin annesi sinemamızın unutulmaz ...  gerçek\n",
              "6  orucu bozan durumlar neler burun damlası orucu...  gerçek\n",
              "7  ankara emniyeti bayram öncesinde sahte çocuk ç...   yalan\n",
              "8  şeyin i̇yisini hakettiğini düşünen genç kızın ...   yalan\n",
              "9  suriye sınırına komando askeri araç sevkiyatı ...  gerçek"
            ],
            "text/html": [
              "\n",
              "  <div id=\"df-556a00b2-3fe8-4f82-a53c-048588c7c0e8\">\n",
              "    <div class=\"colab-df-container\">\n",
              "      <div>\n",
              "<style scoped>\n",
              "    .dataframe tbody tr th:only-of-type {\n",
              "        vertical-align: middle;\n",
              "    }\n",
              "\n",
              "    .dataframe tbody tr th {\n",
              "        vertical-align: top;\n",
              "    }\n",
              "\n",
              "    .dataframe thead th {\n",
              "        text-align: right;\n",
              "    }\n",
              "</style>\n",
              "<table border=\"1\" class=\"dataframe\">\n",
              "  <thead>\n",
              "    <tr style=\"text-align: right;\">\n",
              "      <th></th>\n",
              "      <th>Body</th>\n",
              "      <th>Label</th>\n",
              "    </tr>\n",
              "  </thead>\n",
              "  <tbody>\n",
              "    <tr>\n",
              "      <th>0</th>\n",
              "      <td>karadeniz tiyatro festivali zamanı devlet tiya...</td>\n",
              "      <td>gerçek</td>\n",
              "    </tr>\n",
              "    <tr>\n",
              "      <th>1</th>\n",
              "      <td>sözde torbacının haklı gururu dün gece suların...</td>\n",
              "      <td>yalan</td>\n",
              "    </tr>\n",
              "    <tr>\n",
              "      <th>2</th>\n",
              "      <td>buseyi aramak bin liralık cihazını alıp geldi ...</td>\n",
              "      <td>gerçek</td>\n",
              "    </tr>\n",
              "    <tr>\n",
              "      <th>3</th>\n",
              "      <td>west ham southampton maç özet premier ligin ha...</td>\n",
              "      <td>gerçek</td>\n",
              "    </tr>\n",
              "    <tr>\n",
              "      <th>4</th>\n",
              "      <td>ak partili yavuz duyurdu yskya ek dilekçe vere...</td>\n",
              "      <td>gerçek</td>\n",
              "    </tr>\n",
              "    <tr>\n",
              "      <th>5</th>\n",
              "      <td>onlar türkiyenin annesi sinemamızın unutulmaz ...</td>\n",
              "      <td>gerçek</td>\n",
              "    </tr>\n",
              "    <tr>\n",
              "      <th>6</th>\n",
              "      <td>orucu bozan durumlar neler burun damlası orucu...</td>\n",
              "      <td>gerçek</td>\n",
              "    </tr>\n",
              "    <tr>\n",
              "      <th>7</th>\n",
              "      <td>ankara emniyeti bayram öncesinde sahte çocuk ç...</td>\n",
              "      <td>yalan</td>\n",
              "    </tr>\n",
              "    <tr>\n",
              "      <th>8</th>\n",
              "      <td>şeyin i̇yisini hakettiğini düşünen genç kızın ...</td>\n",
              "      <td>yalan</td>\n",
              "    </tr>\n",
              "    <tr>\n",
              "      <th>9</th>\n",
              "      <td>suriye sınırına komando askeri araç sevkiyatı ...</td>\n",
              "      <td>gerçek</td>\n",
              "    </tr>\n",
              "  </tbody>\n",
              "</table>\n",
              "</div>\n",
              "      <button class=\"colab-df-convert\" onclick=\"convertToInteractive('df-556a00b2-3fe8-4f82-a53c-048588c7c0e8')\"\n",
              "              title=\"Convert this dataframe to an interactive table.\"\n",
              "              style=\"display:none;\">\n",
              "        \n",
              "  <svg xmlns=\"http://www.w3.org/2000/svg\" height=\"24px\"viewBox=\"0 0 24 24\"\n",
              "       width=\"24px\">\n",
              "    <path d=\"M0 0h24v24H0V0z\" fill=\"none\"/>\n",
              "    <path d=\"M18.56 5.44l.94 2.06.94-2.06 2.06-.94-2.06-.94-.94-2.06-.94 2.06-2.06.94zm-11 1L8.5 8.5l.94-2.06 2.06-.94-2.06-.94L8.5 2.5l-.94 2.06-2.06.94zm10 10l.94 2.06.94-2.06 2.06-.94-2.06-.94-.94-2.06-.94 2.06-2.06.94z\"/><path d=\"M17.41 7.96l-1.37-1.37c-.4-.4-.92-.59-1.43-.59-.52 0-1.04.2-1.43.59L10.3 9.45l-7.72 7.72c-.78.78-.78 2.05 0 2.83L4 21.41c.39.39.9.59 1.41.59.51 0 1.02-.2 1.41-.59l7.78-7.78 2.81-2.81c.8-.78.8-2.07 0-2.86zM5.41 20L4 18.59l7.72-7.72 1.47 1.35L5.41 20z\"/>\n",
              "  </svg>\n",
              "      </button>\n",
              "      \n",
              "  <style>\n",
              "    .colab-df-container {\n",
              "      display:flex;\n",
              "      flex-wrap:wrap;\n",
              "      gap: 12px;\n",
              "    }\n",
              "\n",
              "    .colab-df-convert {\n",
              "      background-color: #E8F0FE;\n",
              "      border: none;\n",
              "      border-radius: 50%;\n",
              "      cursor: pointer;\n",
              "      display: none;\n",
              "      fill: #1967D2;\n",
              "      height: 32px;\n",
              "      padding: 0 0 0 0;\n",
              "      width: 32px;\n",
              "    }\n",
              "\n",
              "    .colab-df-convert:hover {\n",
              "      background-color: #E2EBFA;\n",
              "      box-shadow: 0px 1px 2px rgba(60, 64, 67, 0.3), 0px 1px 3px 1px rgba(60, 64, 67, 0.15);\n",
              "      fill: #174EA6;\n",
              "    }\n",
              "\n",
              "    [theme=dark] .colab-df-convert {\n",
              "      background-color: #3B4455;\n",
              "      fill: #D2E3FC;\n",
              "    }\n",
              "\n",
              "    [theme=dark] .colab-df-convert:hover {\n",
              "      background-color: #434B5C;\n",
              "      box-shadow: 0px 1px 3px 1px rgba(0, 0, 0, 0.15);\n",
              "      filter: drop-shadow(0px 1px 2px rgba(0, 0, 0, 0.3));\n",
              "      fill: #FFFFFF;\n",
              "    }\n",
              "  </style>\n",
              "\n",
              "      <script>\n",
              "        const buttonEl =\n",
              "          document.querySelector('#df-556a00b2-3fe8-4f82-a53c-048588c7c0e8 button.colab-df-convert');\n",
              "        buttonEl.style.display =\n",
              "          google.colab.kernel.accessAllowed ? 'block' : 'none';\n",
              "\n",
              "        async function convertToInteractive(key) {\n",
              "          const element = document.querySelector('#df-556a00b2-3fe8-4f82-a53c-048588c7c0e8');\n",
              "          const dataTable =\n",
              "            await google.colab.kernel.invokeFunction('convertToInteractive',\n",
              "                                                     [key], {});\n",
              "          if (!dataTable) return;\n",
              "\n",
              "          const docLinkHtml = 'Like what you see? Visit the ' +\n",
              "            '<a target=\"_blank\" href=https://colab.research.google.com/notebooks/data_table.ipynb>data table notebook</a>'\n",
              "            + ' to learn more about interactive tables.';\n",
              "          element.innerHTML = '';\n",
              "          dataTable['output_type'] = 'display_data';\n",
              "          await google.colab.output.renderOutput(dataTable, element);\n",
              "          const docLink = document.createElement('div');\n",
              "          docLink.innerHTML = docLinkHtml;\n",
              "          element.appendChild(docLink);\n",
              "        }\n",
              "      </script>\n",
              "    </div>\n",
              "  </div>\n",
              "  "
            ]
          },
          "metadata": {},
          "execution_count": 5
        }
      ]
    },
    {
      "cell_type": "code",
      "source": [
        "from gensim.models import Word2Vec\n",
        "\n",
        "# Set the length of the word vectors\n",
        "vector_size = 100\n",
        "\n",
        "# Create a Word2Vec model and train it on the text data\n",
        "w2v_model = Word2Vec(df['Body'].apply(lambda x: x.split()), vector_size=vector_size, min_count=1)\n"
      ],
      "metadata": {
        "id": "0Z7bQ_EcE47a"
      },
      "execution_count": null,
      "outputs": []
    },
    {
      "cell_type": "code",
      "source": [
        "# Display the w2v_model object\n",
        "print(w2v_model)"
      ],
      "metadata": {
        "colab": {
          "base_uri": "https://localhost:8080/"
        },
        "id": "inVwsbO-Wrx1",
        "outputId": "6fcb617b-5de9-4c9a-c1ca-876238160af5"
      },
      "execution_count": null,
      "outputs": [
        {
          "output_type": "stream",
          "name": "stdout",
          "text": [
            "Word2Vec<vocab=127783, vector_size=100, alpha=0.025>\n"
          ]
        }
      ]
    },
    {
      "cell_type": "markdown",
      "source": [
        "LOGISTIC REGRESSION\n"
      ],
      "metadata": {
        "id": "bXbNDmVxDSOY"
      }
    },
    {
      "cell_type": "code",
      "source": [
        "from sklearn.model_selection import train_test_split\n",
        "from sklearn.linear_model import LogisticRegression\n",
        "from sklearn.metrics import accuracy_score, precision_score, recall_score, f1_score\n",
        "\n",
        "#Split the data into X and y.\n",
        "X = df['Body']\n",
        "y = df['Label']\n",
        "\n",
        "# Split the data into training and testing sets.\n",
        "X_train, X_test, y_train, y_test = train_test_split(X, y, test_size=0.2, random_state=42)\n",
        "\n",
        "# Vectorize the text data using the previously trained Word2Vec model.\n",
        "X_train_vec = []\n",
        "for x in X_train:\n",
        "    vecs = [w2v_model.wv[word] for word in x.split() if word in w2v_model.wv.key_to_index]\n",
        "    if len(vecs) == 0:\n",
        "        vecs = [np.zeros(w2v_model.vector_size)]\n",
        "    elif len(vecs) < 100:\n",
        "        padding = [(0, 100 - len(vecs)), (0, 0)]\n",
        "        vecs = np.pad(vecs, padding, mode='constant')\n",
        "    X_train_vec.append(np.mean(vecs, axis=0))\n",
        "\n",
        "X_test_vec = []\n",
        "for x in X_test:\n",
        "    vecs = [w2v_model.wv[word] for word in x.split() if word in w2v_model.wv.key_to_index]\n",
        "    if len(vecs) == 0:\n",
        "        vecs = [np.zeros(w2v_model.vector_size)]\n",
        "    elif len(vecs) < 100:\n",
        "        padding = [(0, 100 - len(vecs)), (0, 0)]\n",
        "        vecs = np.pad(vecs, padding, mode='constant')\n",
        "    X_test_vec.append(np.mean(vecs, axis=0))\n",
        "\n",
        "X_train_vec = np.vstack(X_train_vec)\n",
        "X_test_vec = np.vstack(X_test_vec)\n",
        "\n",
        "\n",
        "# Create a logistic regression model\n",
        "lr = LogisticRegression(max_iter=10000)\n",
        "\n",
        "# Train the model\n",
        "lr.fit(X_train_vec, y_train)\n",
        "\n",
        "# Make predictions on the test data\n",
        "y_pred_lr = lr.predict(X_test_vec)\n",
        "\n",
        "\n",
        "\n",
        "# Calculate evaluation metrics\n",
        "print(\"Accuracy:\", accuracy_score(y_test, y_pred_lr))\n",
        "print(\"Precision:\", precision_score(y_test, y_pred_lr, average='weighted'))\n",
        "print(\"Recall:\", recall_score(y_test, y_pred_lr, average='weighted'))\n",
        "print(\"F1 score:\", f1_score(y_test, y_pred_lr, average='weighted'))"
      ],
      "metadata": {
        "colab": {
          "base_uri": "https://localhost:8080/"
        },
        "id": "PVHv_ClDE49r",
        "outputId": "342f4043-309e-4c18-8ead-5e0a10c7ce43"
      },
      "execution_count": null,
      "outputs": [
        {
          "output_type": "stream",
          "name": "stdout",
          "text": [
            "Accuracy: 0.9292929292929293\n",
            "Precision: 0.9293016966459167\n",
            "Recall: 0.9292929292929293\n",
            "F1 score: 0.9292961408784948\n"
          ]
        }
      ]
    },
    {
      "cell_type": "code",
      "source": [
        "from sklearn.metrics import confusion_matrix\n",
        "\n",
        "cm = confusion_matrix(y_test, y_pred_lr)\n",
        "print(\"Confusion Matrix:\")\n",
        "print(cm)"
      ],
      "metadata": {
        "colab": {
          "base_uri": "https://localhost:8080/"
        },
        "id": "51qZH5P18mFD",
        "outputId": "75d31be2-924a-4a4c-fd62-0c36f96dc236"
      },
      "execution_count": null,
      "outputs": [
        {
          "output_type": "stream",
          "name": "stdout",
          "text": [
            "Confusion Matrix:\n",
            "[[432  32]\n",
            " [ 31 396]]\n"
          ]
        }
      ]
    },
    {
      "cell_type": "code",
      "source": [
        "from sklearn.metrics import classification_report\n",
        "\n",
        "report = classification_report(y_test, y_pred_lr)\n",
        "print(\"Classification Report:\")\n",
        "print(report)"
      ],
      "metadata": {
        "colab": {
          "base_uri": "https://localhost:8080/"
        },
        "id": "Ft6P5TDr8ppu",
        "outputId": "1cf97ddd-b4a2-406a-bbc7-69369b5fa398"
      },
      "execution_count": null,
      "outputs": [
        {
          "output_type": "stream",
          "name": "stdout",
          "text": [
            "Classification Report:\n",
            "              precision    recall  f1-score   support\n",
            "\n",
            "      gerçek       0.93      0.93      0.93       464\n",
            "       yalan       0.93      0.93      0.93       427\n",
            "\n",
            "    accuracy                           0.93       891\n",
            "   macro avg       0.93      0.93      0.93       891\n",
            "weighted avg       0.93      0.93      0.93       891\n",
            "\n"
          ]
        }
      ]
    },
    {
      "cell_type": "code",
      "source": [
        "# Display the contents of the X_train_vec variable\n",
        "print(X_train_vec)"
      ],
      "metadata": {
        "colab": {
          "base_uri": "https://localhost:8080/"
        },
        "id": "LQwBML9tW4oW",
        "outputId": "ba9dfd79-c0b6-4154-d55d-56fe08ecb756"
      },
      "execution_count": null,
      "outputs": [
        {
          "output_type": "stream",
          "name": "stdout",
          "text": [
            "[[-0.18849239  0.3592665   0.25817096 ... -0.4282321   0.05479677\n",
            "   0.10937496]\n",
            " [-0.14194703  0.25077128  0.21129568 ... -0.316399   -0.04705495\n",
            "   0.12433407]\n",
            " [-0.28874207  0.2818498   0.1890552  ... -0.41183025  0.01404249\n",
            "   0.1285924 ]\n",
            " ...\n",
            " [-0.1791871   0.42223147  0.37678063 ... -0.43035847  0.08268766\n",
            "   0.17144491]\n",
            " [-0.05438788  0.10571542  0.11907933 ... -0.08246582 -0.02431335\n",
            "   0.03496204]\n",
            " [-0.18374084  0.25793242  0.2885723  ... -0.40650925  0.06644879\n",
            "   0.0966157 ]]\n"
          ]
        }
      ]
    },
    {
      "cell_type": "code",
      "source": [
        "# Display the contents of the X_test_vec variable\n",
        "print(X_test_vec)"
      ],
      "metadata": {
        "colab": {
          "base_uri": "https://localhost:8080/"
        },
        "id": "XC8a_o1gXFxv",
        "outputId": "6040b6b8-b23c-4f10-f158-2c1ed098b1ec"
      },
      "execution_count": null,
      "outputs": [
        {
          "output_type": "stream",
          "name": "stdout",
          "text": [
            "[[-0.11173511  0.36586532  0.07731041 ... -0.3501031   0.14639024\n",
            "   0.07517733]\n",
            " [-0.16121827  0.43449017  0.20247102 ... -0.43159807  0.1251011\n",
            "   0.11487765]\n",
            " [-0.18899064  0.32765332  0.16869453 ... -0.4220185   0.07097211\n",
            "   0.07724896]\n",
            " ...\n",
            " [-0.12910658  0.42215168  0.19973508 ... -0.3834789   0.11193318\n",
            "   0.10622127]\n",
            " [-0.18304114  0.3948866   0.27899584 ... -0.5375796  -0.06468327\n",
            "   0.12130594]\n",
            " [-0.04197557  0.06069463  0.05819087 ... -0.11556819  0.00723046\n",
            "   0.03402801]]\n"
          ]
        }
      ]
    },
    {
      "cell_type": "code",
      "source": [
        "# Get the number of items in the X_test_vec object\n",
        "len(X_test_vec)"
      ],
      "metadata": {
        "colab": {
          "base_uri": "https://localhost:8080/"
        },
        "id": "xlZH3VAiXLGa",
        "outputId": "85a0e74e-99ae-4873-c20c-0438abe7ca0c"
      },
      "execution_count": null,
      "outputs": [
        {
          "output_type": "execute_result",
          "data": {
            "text/plain": [
              "891"
            ]
          },
          "metadata": {},
          "execution_count": 13
        }
      ]
    },
    {
      "cell_type": "code",
      "source": [
        "# Get the number of items in the X_train_vec object\n",
        "len(X_train_vec)"
      ],
      "metadata": {
        "colab": {
          "base_uri": "https://localhost:8080/"
        },
        "id": "e9Da2EiPXP2M",
        "outputId": "b8933afd-782b-4354-9311-bbb5c15465ad"
      },
      "execution_count": null,
      "outputs": [
        {
          "output_type": "execute_result",
          "data": {
            "text/plain": [
              "3564"
            ]
          },
          "metadata": {},
          "execution_count": 14
        }
      ]
    },
    {
      "cell_type": "markdown",
      "source": [
        "DECISION TREE"
      ],
      "metadata": {
        "id": "j9Ri3vukYFuJ"
      }
    },
    {
      "cell_type": "code",
      "source": [
        "from sklearn.tree import DecisionTreeClassifier\n",
        "\n",
        "# Create a decision tree classifier\n",
        "dt = DecisionTreeClassifier()\n",
        "\n",
        "# Train the model on the vectorized training data\n",
        "dt.fit(X_train_vec, y_train)\n",
        "\n",
        "# Make predictions on the vectorized test data\n",
        "y_pred_dt = dt.predict(X_test_vec)\n",
        "\n",
        "# Calculate evaluation metrics\n",
        "print(\"Accuracy:\", accuracy_score(y_test, y_pred_dt))\n",
        "print(\"Precision:\", precision_score(y_test, y_pred_dt, average='weighted'))\n",
        "print(\"Recall:\", recall_score(y_test, y_pred_dt, average='weighted'))\n",
        "print(\"F1 score:\", f1_score(y_test, y_pred_dt, average='weighted'))"
      ],
      "metadata": {
        "colab": {
          "base_uri": "https://localhost:8080/"
        },
        "id": "-cUFs9joH6En",
        "outputId": "90e05e78-64e7-41ca-ee37-7c1619758ad0"
      },
      "execution_count": null,
      "outputs": [
        {
          "output_type": "stream",
          "name": "stdout",
          "text": [
            "Accuracy: 0.8799102132435466\n",
            "Precision: 0.8801744919905057\n",
            "Recall: 0.8799102132435466\n",
            "F1 score: 0.8797918199716618\n"
          ]
        }
      ]
    },
    {
      "cell_type": "code",
      "source": [
        "from sklearn.metrics import confusion_matrix, classification_report\n",
        "\n",
        "# Confusion Matrix\n",
        "cm_dt = confusion_matrix(y_test, y_pred_dt)\n",
        "print(\"Confusion Matrix:\")\n",
        "print(cm_dt)\n",
        "\n",
        "# Classification Report\n",
        "report_dt = classification_report(y_test, y_pred_dt)\n",
        "print(\"Classification Report:\")\n",
        "print(report_dt)"
      ],
      "metadata": {
        "colab": {
          "base_uri": "https://localhost:8080/"
        },
        "id": "8h6B7lKo9PnH",
        "outputId": "1c2388d9-e94f-40ee-d331-b047662ba030"
      },
      "execution_count": null,
      "outputs": [
        {
          "output_type": "stream",
          "name": "stdout",
          "text": [
            "Confusion Matrix:\n",
            "[[418  46]\n",
            " [ 61 366]]\n",
            "Classification Report:\n",
            "              precision    recall  f1-score   support\n",
            "\n",
            "      gerçek       0.87      0.90      0.89       464\n",
            "       yalan       0.89      0.86      0.87       427\n",
            "\n",
            "    accuracy                           0.88       891\n",
            "   macro avg       0.88      0.88      0.88       891\n",
            "weighted avg       0.88      0.88      0.88       891\n",
            "\n"
          ]
        }
      ]
    },
    {
      "cell_type": "markdown",
      "source": [
        "RANDOM FOREST"
      ],
      "metadata": {
        "id": "OuMetqJcY3Fa"
      }
    },
    {
      "cell_type": "code",
      "source": [
        "from sklearn.ensemble import RandomForestClassifier\n",
        "\n",
        "# Create a random forest classifier with 100 trees\n",
        "rf = RandomForestClassifier(n_estimators=100)\n",
        "\n",
        "# Train the model on the vectorized training data\n",
        "rf.fit(X_train_vec, y_train)\n",
        "\n",
        "# Make predictions on the vectorized test data\n",
        "y_pred_rf = rf.predict(X_test_vec)\n",
        "\n",
        "# Calculate evaluation metrics\n",
        "print(\"Accuracy:\", accuracy_score(y_test, y_pred_rf))\n",
        "print(\"Precision:\", precision_score(y_test, y_pred_rf, average='weighted'))\n",
        "print(\"Recall:\", recall_score(y_test, y_pred_rf, average='weighted'))\n",
        "print(\"F1 score:\", f1_score(y_test, y_pred_rf, average='weighted'))"
      ],
      "metadata": {
        "colab": {
          "base_uri": "https://localhost:8080/"
        },
        "id": "yzViuxSLE5Bx",
        "outputId": "831573c0-ca6a-48e4-a3b1-4b440d72117b"
      },
      "execution_count": null,
      "outputs": [
        {
          "output_type": "stream",
          "name": "stdout",
          "text": [
            "Accuracy: 0.9281705948372615\n",
            "Precision: 0.9282082007271947\n",
            "Recall: 0.9281705948372615\n",
            "F1 score: 0.9281471968097424\n"
          ]
        }
      ]
    },
    {
      "cell_type": "code",
      "source": [
        "from sklearn.metrics import confusion_matrix, classification_report\n",
        "\n",
        "# Confusion Matrix\n",
        "cm_rf = confusion_matrix(y_test, y_pred_rf)\n",
        "print(\"Confusion Matrix:\")\n",
        "print(cm_rf)\n",
        "\n",
        "# Classification Report\n",
        "report_rf = classification_report(y_test, y_pred_rf)\n",
        "print(\"Classification Report:\")\n",
        "print(report_rf)"
      ],
      "metadata": {
        "colab": {
          "base_uri": "https://localhost:8080/"
        },
        "id": "gxM44JNw9gpX",
        "outputId": "e5d1ef99-5a50-418a-a382-5a24e99cfeaa"
      },
      "execution_count": null,
      "outputs": [
        {
          "output_type": "stream",
          "name": "stdout",
          "text": [
            "Confusion Matrix:\n",
            "[[435  29]\n",
            " [ 35 392]]\n",
            "Classification Report:\n",
            "              precision    recall  f1-score   support\n",
            "\n",
            "      gerçek       0.93      0.94      0.93       464\n",
            "       yalan       0.93      0.92      0.92       427\n",
            "\n",
            "    accuracy                           0.93       891\n",
            "   macro avg       0.93      0.93      0.93       891\n",
            "weighted avg       0.93      0.93      0.93       891\n",
            "\n"
          ]
        }
      ]
    },
    {
      "cell_type": "markdown",
      "source": [
        "GRADIENT BOOSTING"
      ],
      "metadata": {
        "id": "pvu8UyU8ZPnX"
      }
    },
    {
      "cell_type": "code",
      "source": [
        "from sklearn.ensemble import GradientBoostingClassifier\n",
        "\n",
        "# Create a gradient boosting classifier\n",
        "gb = GradientBoostingClassifier()\n",
        "\n",
        "# Train the model on the vectorized training data\n",
        "gb.fit(X_train_vec, y_train)\n",
        "\n",
        "# Make predictions on the vectorized test data\n",
        "y_pred_gb = gb.predict(X_test_vec)\n",
        "\n",
        "# Calculate evaluation metrics\n",
        "print(\"Accuracy:\", accuracy_score(y_test, y_pred_gb))\n",
        "print(\"Precision:\", precision_score(y_test, y_pred_gb, average='weighted'))\n",
        "print(\"Recall:\", recall_score(y_test, y_pred_gb, average='weighted'))\n",
        "print(\"F1 score:\", f1_score(y_test, y_pred_gb, average='weighted'))"
      ],
      "metadata": {
        "colab": {
          "base_uri": "https://localhost:8080/"
        },
        "id": "mtWRZnI6E5D6",
        "outputId": "5384eeaf-d640-4ffa-b845-3c5008a954d2"
      },
      "execution_count": null,
      "outputs": [
        {
          "output_type": "stream",
          "name": "stdout",
          "text": [
            "Accuracy: 0.9371492704826038\n",
            "Precision: 0.9373116091791784\n",
            "Recall: 0.9371492704826038\n",
            "F1 score: 0.9371119572482427\n"
          ]
        }
      ]
    },
    {
      "cell_type": "code",
      "source": [
        "# Confusion Matrix\n",
        "cm_gb = confusion_matrix(y_test, y_pred_gb)\n",
        "print(\"Confusion Matrix:\")\n",
        "print(cm_gb)\n",
        "\n",
        "# Classification Report\n",
        "report_gb = classification_report(y_test, y_pred_gb)\n",
        "print(\"Classification Report:\")\n",
        "print(report_gb)"
      ],
      "metadata": {
        "colab": {
          "base_uri": "https://localhost:8080/"
        },
        "id": "gvaZefDy9sm0",
        "outputId": "869d2efe-77d9-4ebe-feac-1b340e0d889d"
      },
      "execution_count": null,
      "outputs": [
        {
          "output_type": "stream",
          "name": "stdout",
          "text": [
            "Confusion Matrix:\n",
            "[[441  23]\n",
            " [ 33 394]]\n",
            "Classification Report:\n",
            "              precision    recall  f1-score   support\n",
            "\n",
            "      gerçek       0.93      0.95      0.94       464\n",
            "       yalan       0.94      0.92      0.93       427\n",
            "\n",
            "    accuracy                           0.94       891\n",
            "   macro avg       0.94      0.94      0.94       891\n",
            "weighted avg       0.94      0.94      0.94       891\n",
            "\n"
          ]
        }
      ]
    },
    {
      "cell_type": "markdown",
      "source": [
        "SUPPORT VECTOR MACHINE"
      ],
      "metadata": {
        "id": "L9QiMv6mZWC4"
      }
    },
    {
      "cell_type": "code",
      "source": [
        "from sklearn.svm import SVC\n",
        "\n",
        "# Create a support vector machine classifier\n",
        "svm = SVC()\n",
        "\n",
        "# Train the model on the vectorized training data\n",
        "svm.fit(X_train_vec, y_train)\n",
        "\n",
        "# Make predictions on the vectorized test data\n",
        "y_pred_svm = svm.predict(X_test_vec)\n",
        "\n",
        "# Calculate evaluation metrics\n",
        "print(\"Accuracy:\", accuracy_score(y_test, y_pred_svm))\n",
        "print(\"Precision:\", precision_score(y_test, y_pred_svm, average='weighted'))\n",
        "print(\"Recall:\", recall_score(y_test, y_pred_svm, average='weighted'))\n",
        "print(\"F1 score:\", f1_score(y_test, y_pred_svm, average='weighted'))"
      ],
      "metadata": {
        "colab": {
          "base_uri": "https://localhost:8080/"
        },
        "id": "cA8JogZ5E5Fx",
        "outputId": "69095bc9-1332-40bf-8a1c-1ca42ee78b76"
      },
      "execution_count": null,
      "outputs": [
        {
          "output_type": "stream",
          "name": "stdout",
          "text": [
            "Accuracy: 0.9191919191919192\n",
            "Precision: 0.9194785586079853\n",
            "Recall: 0.9191919191919192\n",
            "F1 score: 0.919219427389362\n"
          ]
        }
      ]
    },
    {
      "cell_type": "code",
      "source": [
        "cm_svm = confusion_matrix(y_test, y_pred_svm)\n",
        "report_svm = classification_report(y_test, y_pred_svm)\n",
        "\n",
        "print(\"Confusion Matrix:\")\n",
        "print(cm_svm)\n",
        "print(\"Classification Report:\")\n",
        "print(report_svm)"
      ],
      "metadata": {
        "colab": {
          "base_uri": "https://localhost:8080/"
        },
        "id": "Pycd_F4O-BSw",
        "outputId": "432d2491-0bc0-4db4-d749-669e8a2362a5"
      },
      "execution_count": null,
      "outputs": [
        {
          "output_type": "stream",
          "name": "stdout",
          "text": [
            "Confusion Matrix:\n",
            "[[423  41]\n",
            " [ 31 396]]\n",
            "Classification Report:\n",
            "              precision    recall  f1-score   support\n",
            "\n",
            "      gerçek       0.93      0.91      0.92       464\n",
            "       yalan       0.91      0.93      0.92       427\n",
            "\n",
            "    accuracy                           0.92       891\n",
            "   macro avg       0.92      0.92      0.92       891\n",
            "weighted avg       0.92      0.92      0.92       891\n",
            "\n"
          ]
        }
      ]
    },
    {
      "cell_type": "markdown",
      "source": [
        "KNN"
      ],
      "metadata": {
        "id": "-LB5fcdSaalf"
      }
    },
    {
      "cell_type": "code",
      "source": [
        "from sklearn.neighbors import KNeighborsClassifier\n",
        "\n",
        "# Create a k-nearest neighbors classifier and train it on the vectorized training data\n",
        "knn = KNeighborsClassifier()\n",
        "knn.fit(X_train_vec, y_train)\n",
        "\n",
        "# Make predictions on the vectorized test data\n",
        "y_pred_knn = knn.predict(X_test_vec)\n",
        "\n",
        "# Calculate evaluation metrics\n",
        "print(\"Accuracy:\", accuracy_score(y_test, y_pred_knn))\n",
        "print(\"Precision:\", precision_score(y_test, y_pred_knn, average='weighted'))\n",
        "print(\"Recall:\", recall_score(y_test, y_pred_knn, average='weighted'))\n",
        "print(\"F1 score:\", f1_score(y_test, y_pred_knn, average='weighted'))"
      ],
      "metadata": {
        "colab": {
          "base_uri": "https://localhost:8080/"
        },
        "id": "RYcjmbxRE5J-",
        "outputId": "e2b08a0e-1fe4-45bb-8dd8-da41d60d36a5"
      },
      "execution_count": null,
      "outputs": [
        {
          "output_type": "stream",
          "name": "stdout",
          "text": [
            "Accuracy: 0.9090909090909091\n",
            "Precision: 0.9108229646743139\n",
            "Recall: 0.9090909090909091\n",
            "F1 score: 0.9091218312905402\n"
          ]
        }
      ]
    },
    {
      "cell_type": "code",
      "source": [
        "cm_knn = confusion_matrix(y_test, y_pred_knn)\n",
        "report_knn = classification_report(y_test, y_pred_knn)\n",
        "\n",
        "print(\"Confusion Matrix:\")\n",
        "print(cm_knn)\n",
        "print(\"Classification Report:\")\n",
        "print(report_knn)"
      ],
      "metadata": {
        "colab": {
          "base_uri": "https://localhost:8080/"
        },
        "id": "HGTm6eRT-LdY",
        "outputId": "19fe7619-e5f5-46ad-a346-111d8a54f63a"
      },
      "execution_count": null,
      "outputs": [
        {
          "output_type": "stream",
          "name": "stdout",
          "text": [
            "Confusion Matrix:\n",
            "[[410  54]\n",
            " [ 27 400]]\n",
            "Classification Report:\n",
            "              precision    recall  f1-score   support\n",
            "\n",
            "      gerçek       0.94      0.88      0.91       464\n",
            "       yalan       0.88      0.94      0.91       427\n",
            "\n",
            "    accuracy                           0.91       891\n",
            "   macro avg       0.91      0.91      0.91       891\n",
            "weighted avg       0.91      0.91      0.91       891\n",
            "\n"
          ]
        }
      ]
    },
    {
      "cell_type": "markdown",
      "source": [
        "NAIVE BAYES"
      ],
      "metadata": {
        "id": "E4xRqtWCak5h"
      }
    },
    {
      "cell_type": "code",
      "source": [
        "from sklearn.preprocessing import MinMaxScaler\n",
        "from sklearn.naive_bayes import MultinomialNB\n",
        "\n",
        "# Perform min-max scaling on the training and test data\n",
        "scaler = MinMaxScaler()\n",
        "X_train_scaled = scaler.fit_transform(X_train_vec)\n",
        "X_test_scaled = scaler.transform(X_test_vec)\n",
        "\n",
        "# Apply log transformation to the scaled data\n",
        "X_train_log = np.log(X_train_scaled + 1)\n",
        "X_test_log = np.log(X_test_scaled + 1)\n",
        "\n",
        "# Create and train a Naive Bayes model\n",
        "nb = MultinomialNB()\n",
        "nb.fit(X_train_log, y_train)\n",
        "\n",
        "# Make predictions on the test data\n",
        "y_pred_nb = nb.predict(X_test_log)\n",
        "\n",
        "# Calculate and print evaluation metrics\n",
        "print(\"Accuracy:\", accuracy_score(y_test, y_pred_nb))\n",
        "print(\"Precision:\", precision_score(y_test, y_pred_nb, average='weighted'))\n",
        "print(\"Recall:\", recall_score(y_test, y_pred_nb, average='weighted'))\n",
        "print(\"F1 score:\", f1_score(y_test, y_pred_nb, average='weighted'))"
      ],
      "metadata": {
        "colab": {
          "base_uri": "https://localhost:8080/"
        },
        "id": "InMyLmZiaoSz",
        "outputId": "6405307d-8d57-4db8-d0d1-e577afffd48f"
      },
      "execution_count": null,
      "outputs": [
        {
          "output_type": "stream",
          "name": "stdout",
          "text": [
            "Accuracy: 0.877665544332211\n",
            "Precision: 0.8813411947769709\n",
            "Recall: 0.877665544332211\n",
            "F1 score: 0.8776402719613048\n"
          ]
        }
      ]
    },
    {
      "cell_type": "code",
      "source": [
        "cm_nb = confusion_matrix(y_test, y_pred_nb)\n",
        "report_nb = classification_report(y_test, y_pred_nb)\n",
        "\n",
        "print(\"Confusion Matrix:\")\n",
        "print(cm_nb)\n",
        "print(\"Classification Report:\")\n",
        "print(report_nb)"
      ],
      "metadata": {
        "colab": {
          "base_uri": "https://localhost:8080/"
        },
        "id": "QbTEH2bF-P_1",
        "outputId": "fad9d404-4471-4456-98f3-a2b5dd7e7a3e"
      },
      "execution_count": null,
      "outputs": [
        {
          "output_type": "stream",
          "name": "stdout",
          "text": [
            "Confusion Matrix:\n",
            "[[389  75]\n",
            " [ 34 393]]\n",
            "Classification Report:\n",
            "              precision    recall  f1-score   support\n",
            "\n",
            "      gerçek       0.92      0.84      0.88       464\n",
            "       yalan       0.84      0.92      0.88       427\n",
            "\n",
            "    accuracy                           0.88       891\n",
            "   macro avg       0.88      0.88      0.88       891\n",
            "weighted avg       0.88      0.88      0.88       891\n",
            "\n"
          ]
        }
      ]
    }
  ]
}